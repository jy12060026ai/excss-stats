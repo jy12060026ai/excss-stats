{
 "cells": [
  {
   "cell_type": "markdown",
   "metadata": {},
   "source": [
    "# Chapter 8: Transformations"
   ]
  },
  {
   "cell_type": "code",
   "execution_count": 1,
   "metadata": {},
   "outputs": [],
   "source": [
    "import matplotlib.pyplot as plt\n",
    "import numpy as np"
   ]
  },
  {
   "cell_type": "markdown",
   "metadata": {},
   "source": [
    "## Beta and Gamma distributions"
   ]
  },
  {
   "cell_type": "code",
   "execution_count": 2,
   "metadata": {},
   "outputs": [],
   "source": [
    "from scipy.stats import beta, gamma\n",
    "\n",
    "# to learn more about scipy.stats.beta, un-comment ouf the following line\n",
    "#print(beta.__doc__)\n",
    "\n",
    "# to learn more about scipy.stats.gamma, un-comment ouf the following line\n",
    "#rint(gamma.__doc__)"
   ]
  },
  {
   "cell_type": "markdown",
   "metadata": {},
   "source": [
    "The Beta and Gamma distributions are implemented in [`scipy.stats.beta`](https://docs.scipy.org/doc/scipy/reference/generated/scipy.stats.beta.html) and [`scipy.stats.gamma`](https://docs.scipy.org/doc/scipy/reference/generated/scipy.stats.gamma.html), respectively.\n",
    "\n",
    "* To evaluate the $Beta(a, b)$ PDF or CDF at $x$, we use `beta.pdf(x, a, b)` and `beta.cdf(x, a, b)`. To generate $n$ realizations from the $Beta(a, b)$ distribution, we use `beta.rvs(a, b, size=n)`. \n",
    "* To evaluate the $Gamma(a, \\lambda)$ PDF or CDF at $x$, we use`gamma.pdf(x, a, scale=1/lambd)` or `gamma.cdf(x, a, scale=1/lambd)`. To generate $n$ realizations from the $Gamma(a, \\lambda)$ distribution, we use `gamma.rvs(a, scale=1/lambd, size=n)`. \n",
    "   * The $\\lambda$ parameter in $Gamma(a, \\lambda)$ corresponds in `gamma` to using `scale` = $\\frac{1}{\\lambda}$ and default value of `loc` = 0.\n",
    "\n",
    "For example, we can check that the $Gamma(3, 2)$ distribution has mean $\\frac{3}{2}$ and variance $\\frac{3}{4}$. To do this, we generate a large number of $Gamma(3, 2)$ random variables using `gamma.rvs`, then compute their mean and var using their corresponding methods in `numpy.array` (you could of course also use `numpy.mean` and `numpy.var`, passing in the array of r.v.):"
   ]
  },
  {
   "cell_type": "code",
   "execution_count": 3,
   "metadata": {},
   "outputs": [
    {
     "name": "stdout",
     "output_type": "stream",
     "text": [
      "mean of Gamma(3, 2) = 1.5012880719327166\n",
      "variance of Gamma(3, 2) = 0.7512319256875035\n"
     ]
    }
   ],
   "source": [
    "# seed the random number generator\n",
    "np.random.seed(317811)\n",
    "\n",
    "alpha = 3.0\n",
    "lambd = 2.0\n",
    "\n",
    "y = gamma.rvs(alpha, scale=1/lambd, size=10**5)\n",
    "\n",
    "mean = y.mean()\n",
    "#mean = np.mean(y)\n",
    "print('mean of Gamma(3, 2) = {}'.format(mean))\n",
    "\n",
    "var = y.var()\n",
    "#var = np.var(y)\n",
    "print('variance of Gamma(3, 2) = {}'.format(var))"
   ]
  },
  {
   "cell_type": "markdown",
   "metadata": {},
   "source": [
    "**NOTE**: [`lambda`](https://docs.python.org/3/tutorial/controlflow.html#lambda-expressions) in Python is a reserved keyword for declaring small, anonymous functions, and so we cannot used the name `lambda` for variable or functions.\n",
    "\n",
    "Try changing the `numpy.random.seed` input value in the code block above, and hit SHIFT+ENTER to re-execute the code block. Did you get values that are close to 1.5 and 0.75, respectively?"
   ]
  },
  {
   "cell_type": "markdown",
   "metadata": {},
   "source": [
    "## Convolution of Uniforms\n",
    "\n",
    "Using [`scipy.stats.uniform`](https://docs.scipy.org/doc/scipy/reference/generated/scipy.stats.uniform.html) and [`matplotlib.pyplot.hist`](https://matplotlib.org/api/_as_gen/matplotlib.pyplot.hist.html), we can quickly verify that for $X, Y \\stackrel{i.i.d.}{\\sim} Unif(0, 1)$, the distribution of $T = X + Y$ is triangular in shape:"
   ]
  },
  {
   "cell_type": "code",
   "execution_count": 4,
   "metadata": {},
   "outputs": [
    {
     "data": {
      "image/png": "[encoded data removed]",
      "text/plain": [
       "<Figure size 432x288 with 1 Axes>"
      ]
     },
     "metadata": {},
     "output_type": "display_data"
    }
   ],
   "source": [
    "np.random.seed(514229)\n",
    "\n",
    "from scipy.stats import uniform\n",
    "\n",
    "x = uniform.rvs(size=10**5)\n",
    "y = uniform.rvs(size=10**5)\n",
    "\n",
    "t = x + y\n",
    "\n",
    "plt.hist(t, bins=20)\n",
    "\n",
    "plt.title(r'Histogram of $T = X + Y$')\n",
    "plt.xlabel(r'$x + y$')\n",
    "plt.ylabel('Frequency')\n",
    "\n",
    "plt.show()"
   ]
  },
  {
   "cell_type": "markdown",
   "metadata": {},
   "source": [
    "The histogram looks like an ascending and then descending staircase, a discrete approximation to a triangle."
   ]
  },
  {
   "cell_type": "markdown",
   "metadata": {},
   "source": [
    "## Bayes' billiards\n",
    "\n",
    "In the Bayes' billiards story, we have $n$ white balls and 1 gray ball, throw them onto the unit interval completely at random, and count the number of white balls to the left of the gray ball. Letting $p$ be the position of the gray ball and $X$ be the number of white balls to the left of the gray ball, we have\n",
    "\n",
    "\\begin{align}\n",
    "  p &\\sim Unif(0, 1) \\\\\n",
    "  X|p &\\sim Bin(n, p)\n",
    "\\end{align}"
   ]
  },
  {
   "cell_type": "markdown",
   "metadata": {},
   "source": [
    "By performing this experiment a large number of times, we can verify the results we derived in this chapter about the marginal PMF of $X$ and the posterior PDF of $p \\text{ given } X = x$. We'll let the number of simulations be called `nsims`, to avoid a name conflict with the number of white balls, `n`, which we set equal to 10:"
   ]
  },
  {
   "cell_type": "code",
   "execution_count": 5,
   "metadata": {},
   "outputs": [],
   "source": [
    "nsims = 10**5\n",
    "n = 10"
   ]
  },
  {
   "cell_type": "markdown",
   "metadata": {},
   "source": [
    "We simulate 10<sup>5</sup> values of $p$, then simulate 10<sup>5</sup> values from the conditional distribution of $X$ given $p$:"
   ]
  },
  {
   "cell_type": "code",
   "execution_count": 6,
   "metadata": {},
   "outputs": [],
   "source": [
    "np.random.seed(832040)\n",
    "\n",
    "p = uniform.rvs(size=nsims)\n",
    "\n",
    "from scipy.stats import binom\n",
    "\n",
    "x = binom.rvs(n, p, size=nsims)"
   ]
  },
  {
   "cell_type": "markdown",
   "metadata": {},
   "source": [
    "Notice that we feed the entire array `p` into `binom.rvs`. This means that the first element of `x` is generated using the first element of `p`, the second element of `x` is generated using the second element of `p`, and so forth. Thus, conditional on a particular element of `p`, the corresponding element of `x` is Binomial, but the elements of `p` are themselves Uniform, exactly as the model specifies.\n",
    "\n",
    "According to the Bayes' billiards argument, the marginal distribution of $X$ should be Discrete Uniform on the integers 0 through $n$. Is this in fact the case? We can make a histogram of `x` to check! Because the distribution of $X$ is discrete, we can specify `bins=np.arange(0, n+1, 0.5), align='left'` in the call to `matplotlib.pyplot.hist` so that each bar is centered at an integer value:"
   ]
  },
  {
   "cell_type": "code",
   "execution_count": 7,
   "metadata": {},
   "outputs": [
    {
     "data": {
      "image/png": "[encoded data removed]",
      "text/plain": [
       "<Figure size 432x288 with 1 Axes>"
      ]
     },
     "metadata": {},
     "output_type": "display_data"
    }
   ],
   "source": [
    "plt.hist(x, bins=np.arange(0, n+1, 0.5), align='left')\n",
    "\n",
    "plt.title(r'Histogram of $x$')\n",
    "plt.xlabel(r'$x$')\n",
    "plt.ylabel('Frequency')\n",
    "# also set the x-axis ticks to show integers 0, 1, 2, ..., 10\n",
    "plt.xticks(range(0, 10+1))\n",
    "\n",
    "plt.show()"
   ]
  },
  {
   "cell_type": "markdown",
   "metadata": {},
   "source": [
    "Indeed, all the histogram bars are approximately equal in height, consistent with a Discrete Uniform distribution. \n",
    "\n",
    "Now for the posterior distribution of $p$ given $X = x$. Conditioning is very simple since we are using `numpy.array`. To consider only the simulated values of $p$ where the value of $X$ was 3, we use [`numpy.where(x==3)`](https://docs.scipy.org/doc/numpy/reference/generated/numpy.where.html) to find the indices where `x` = 3, and then use that within the square brackets of `p` to index only those corresponding values. In particular, we can create a histogram of these values using `matplotlib.pyplot.hist` to see what the posterior distribution of $p$ given $X = 3$ looks like.\n",
    "\n",
    "According to the Beta-Binomial conjugacy result, the true posterior distribution is $p|X = 3 \\sim Beta(4, 8)$. We can plot the histogram of `p[numpy.where(x==3)]` next to a histogram of simulated values from the $Beta(4, 8)$ distribution to confirm that they look similar:"
   ]
  },
  {
   "cell_type": "code",
   "execution_count": 8,
   "metadata": {},
   "outputs": [
    {
     "data": {
      "image/png": "[encoded data removed]",
      "text/plain": [
       "<Figure size 1008x432 with 2 Axes>"
      ]
     },
     "metadata": {},
     "output_type": "display_data"
    }
   ],
   "source": [
    "np.random.seed(1346269)\n",
    "\n",
    "fig = plt.figure(figsize=(14, 6))\n",
    "\n",
    "p_given_x_3 = p[np.where(x==3)]\n",
    "\n",
    "ax1 = fig.add_subplot(121)\n",
    "ax1.hist(p_given_x_3, bins=20, color='#e66101')\n",
    "ax1.set_title(r'Histogram of $\\tt{p[numpy.where(x==3)]}$')\n",
    "ax1.set_ylabel('Frequency')\n",
    "\n",
    "brv = beta.rvs(4.0, 8.0, size=10**4)\n",
    "\n",
    "ax2 = fig.add_subplot(122)\n",
    "ax2.hist(brv, bins=20, color='#5e3c99')\n",
    "ax2.set_title(r'Histogram of $Beta(4, \\, 8)$, $10^4$ simulated values')\n",
    "ax2.set_ylabel('Frequency')\n",
    "\n",
    "plt.show()"
   ]
  },
  {
   "cell_type": "markdown",
   "metadata": {},
   "source": [
    "For the side-by-side graph above, we obtain an instance of [`matplotlib.pyplot.figure`](https://matplotlib.org/api/_as_gen/matplotlib.pyplot.figure.html) from `pyplot`, specifying the figure's width and height. Next, we use [`figure.add_subplot(121)`](https://matplotlib.org/api/_as_gen/matplotlib.pyplot.subplot.html) to create graph axes in a figure with 1 row and 2 columns, in the 1st column position from the left, for the histogram of `p[numpy.where(x==3)]`. Likewise, `figure.add_subplot(122)` creates the graph axes for the histogram for $Beta(4, 8)$ in the 2nd column position of the 1-row, 2-column figure."
   ]
  },
  {
   "cell_type": "markdown",
   "metadata": {},
   "source": [
    "## Simulating order statistics\n",
    "\n",
    "Simulating order statistics in Python/NumPy/SciPy is easy: we simply simulate i.i.d. r.v.s and sort them in order. For example,"
   ]
  },
  {
   "cell_type": "code",
   "execution_count": 9,
   "metadata": {},
   "outputs": [
    {
     "name": "stdout",
     "output_type": "stream",
     "text": [
      "[-2.05800632 -1.14300612 -0.09108752 -0.08188422  0.45810851  0.55556877\n",
      "  0.59398037  0.9312065   0.98367818  1.12202827]\n"
     ]
    }
   ],
   "source": [
    "np.random.seed(2178309)\n",
    "\n",
    "from scipy.stats import norm\n",
    "\n",
    "rv = np.sort(norm.rvs(size=10))\n",
    "print(rv)"
   ]
  },
  {
   "cell_type": "markdown",
   "metadata": {},
   "source": [
    "produces one realization of $X_{(1)}, \\ldots, X_{(10)}$, where $X_{(1)}, \\ldots, X_{(10)}$ are i.i.d. $N(0, 1)$. If we want to plot a histogram of realizations of, say, $X_{(9)}$, we'll need to use iteration. Let's try using [Python's list comprehensions](https://docs.python.org/3/tutorial/datastructures.html#list-comprehensions):"
   ]
  },
  {
   "cell_type": "code",
   "execution_count": 10,
   "metadata": {},
   "outputs": [
    {
     "name": "stdout",
     "output_type": "stream",
     "text": [
      "order_stats has shape: (10000, 10)\n"
     ]
    }
   ],
   "source": [
    "np.random.seed(3524578)\n",
    "\n",
    "rv_arr = [np.sort(norm.rvs(size=10)) for _ in range(10**4)]\n",
    "order_stats = np.array(rv_arr)\n",
    "\n",
    "print('order_stats has shape: {}'.format(order_stats.shape))"
   ]
  },
  {
   "cell_type": "markdown",
   "metadata": {},
   "source": [
    "The 10<sup>4</sup> iterations are done with\n",
    "\n",
    "    rv_arr = [np.sort(norm.rvs(size=10)) for _ in range(10**4)]\n",
    "\n",
    "This Python list comprehension does the following:\n",
    "* loops 10<sup>4</sup> times with `for _ in range(10**4)`, where we ignore the iteration counter by using `_`\n",
    "   * as we loop, we do not need to know which particular iteration we are on\n",
    "* for each iteration, calculate `np.sort(norm.rvs(size=10))`\n",
    "* gather up the results of all the iterations into a Python list (array), assigning this resulting list to `rv_arr`\n",
    "* this one-liner list comprehension is equivalent to all this code:\n",
    "<pre>\n",
    "    rv_arr = []\n",
    "    for _ in range(10**4):\n",
    "        rv = np.sort(norm.rvs(size=10))\n",
    "        rv_arr.append(rv)\n",
    "</pre>\n",
    "\n",
    "This creates a matrix, `order_stats`, with 10<sup>4</sup> rows and 10 columns. The _i_<sup>th</sup> column of the matrix contains 10<sup>4</sup> realizations of $X_{(i+1)}$ (don't forget that Python is zero-indexed, so the 8<sup>th</sup> column is $X_{(9)}$!). Now we can create a histogram of $X_{(9)}$, simply by selecting column 8 of the matrix:"
   ]
  },
  {
   "cell_type": "code",
   "execution_count": 11,
   "metadata": {},
   "outputs": [
    {
     "data": {
      "image/png": "[encoded data removed]",
      "text/plain": [
       "<Figure size 432x288 with 1 Axes>"
      ]
     },
     "metadata": {},
     "output_type": "display_data"
    }
   ],
   "source": [
    "x9 = order_stats[:, 8]\n",
    "\n",
    "plt.hist(x9, bins=20)\n",
    "\n",
    "plt.xticks(np.arange(-1, 4, 1))\n",
    "plt.title(r'Histogram of $X_{(9)}$')\n",
    "plt.ylabel('Frequency')\n",
    "\n",
    "plt.show()"
   ]
  },
  {
   "cell_type": "markdown",
   "metadata": {},
   "source": [
    "We can also compute summaries like `numpy.mean(x9)` and `numpy.var(x9)`."
   ]
  },
  {
   "cell_type": "code",
   "execution_count": 12,
   "metadata": {},
   "outputs": [
    {
     "name": "stdout",
     "output_type": "stream",
     "text": [
      "mean of x9 = 1.0092010380841254\n",
      "variance of x9 = 0.2108867888683199\n"
     ]
    }
   ],
   "source": [
    "mean_x9 = np.mean(x9)\n",
    "print('mean of x9 = {}'.format(mean_x9))\n",
    "\n",
    "var_x9 = np.var(x9)\n",
    "print('variance of x9 = {}'.format(var_x9))"
   ]
  },
  {
   "cell_type": "markdown",
   "metadata": {},
   "source": [
    "----\n",
    "\n",
    "Joseph K. Blitzstein and Jessica Hwang, Harvard University and Stanford University, &copy; 2019 by Taylor and Francis Group, LLC"
   ]
  }
 ],
 "metadata": {
  "interpreter": {
   "hash": "1f13dcc718ad94914951089f1a229aa575a9f51c0e7fc146f2aaa6c454294dc4"
  },
  "kernelspec": {
   "display_name": "Python 3.9.7 64-bit ('kaggle': conda)",
   "name": "python3"
  },
  "language_info": {
   "codemirror_mode": {
    "name": "ipython",
    "version": 3
   },
   "file_extension": ".py",
   "mimetype": "text/x-python",
   "name": "python",
   "nbconvert_exporter": "python",
   "pygments_lexer": "ipython3",
   "version": "3.9.7"
  },
  "notebook_info": {
   "author": "Joseph K. Blitzstein, Jessica Hwang",
   "chapter": "8. Transformations",
   "creator": "buruzaemon",
   "section": "8.8",
   "title": "Introduction to Probability, 1st Edition"
  }
 },
 "nbformat": 4,
 "nbformat_minor": 2
}
