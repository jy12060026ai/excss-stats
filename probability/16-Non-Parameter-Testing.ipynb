{
 "cells": [
  {
   "cell_type": "markdown",
   "metadata": {},
   "source": [
    "# Non Parameter Testing"
   ]
  },
  {
   "cell_type": "code",
   "execution_count": 12,
   "metadata": {},
   "outputs": [],
   "source": [
    "import matplotlib.pyplot as plt\n",
    "import numpy as np\n",
    "import pandas as pd\n",
    "import seaborn as sns"
   ]
  },
  {
   "cell_type": "code",
   "execution_count": 13,
   "metadata": {},
   "outputs": [],
   "source": [
    "from scipy import stats, special"
   ]
  },
  {
   "cell_type": "markdown",
   "metadata": {},
   "source": [
    "# Chi-Squared Goodness-of-Fit Test"
   ]
  },
  {
   "cell_type": "markdown",
   "metadata": {},
   "source": [
    "This is the last topic of the this tutorial session. Let's walk through an example, then you will be able to grasp the essence of **chi-squared goodness-of-fit test**.\n",
    "\n",
    "There are three marksman, who are competing shooting beer bottles hanging on a tree $300m$ away, according to their historical records. Here is their hitting rates.\n",
    "\n",
    "<table style=\"width:30%; text-align:center;font-size: 120%\">\n",
    "  <tr>\n",
    "    <th>Marksman</th>\n",
    "    <th>Hitting Rate</th>\n",
    "  </tr>\n",
    "  <tr>\n",
    "    <td>A</td>\n",
    "    <td>24%</td>\n",
    "  </tr>\n",
    "  <tr>\n",
    "    <td>B</td>\n",
    "    <td>40%</td>\n",
    "  </tr>\n",
    "   <tr>\n",
    "    <td>C</td>\n",
    "    <td>36%</td>\n",
    "  </tr>\n",
    "</table>"
   ]
  },
  {
   "cell_type": "markdown",
   "metadata": {},
   "source": [
    "Apparently $24\\%+40\\%+36\\%=1$, which is a feature of **multinomial experiment**. \n",
    "\n",
    "In order to improve performance, Marksman A attended a hunter training camp, then they agree to compete again. They take turn to shoot and will stop until the 500th bottle is shot. Here is the result. \n",
    "\n",
    "<table style=\"width:30%; text-align:center;font-size: 120%\">\n",
    "  <tr>\n",
    "    <th>Marksman</th>\n",
    "    <th>Bottles</th>\n",
    "  </tr>\n",
    "  <tr>\n",
    "    <td>A</td>\n",
    "    <td>142</td>\n",
    "  </tr>\n",
    "  <tr>\n",
    "    <td>B</td>\n",
    "    <td>187</td>\n",
    "  </tr>\n",
    "   <tr>\n",
    "    <td>C</td>\n",
    "    <td>172</td>\n",
    "  </tr>\n",
    "</table>"
   ]
  },
  {
   "cell_type": "markdown",
   "metadata": {},
   "source": [
    "We would like to know if Marksman A has improved which also causes the hitting rate changes. The null hypothesis is specified as\n",
    "$$\n",
    "H_0: p_1=24\\%, p_2 = 40\\%, p_3=36\\%\\\\\n",
    "H_1: \\text{At least one $p_i$ is not equal to its specified value}\n",
    "$$"
   ]
  },
  {
   "cell_type": "markdown",
   "metadata": {},
   "source": [
    "Without seeing the lastest competition result, we are looking forward to the **expected frequency** to be\n",
    "$$\n",
    "e_1 = 500× 24\\% = 120\\\\\n",
    "e_2 = 500× 40\\% = 200\\\\\n",
    "e_3 = 500× 36\\% = 180\n",
    "$$"
   ]
  },
  {
   "cell_type": "markdown",
   "metadata": {},
   "source": [
    "And here's the comparison bar chart."
   ]
  },
  {
   "cell_type": "code",
   "execution_count": 14,
   "metadata": {},
   "outputs": [
    {
     "data": {
      "image/png": "[encoded data removed]",
      "text/plain": [
       "<Figure size 600x400 with 1 Axes>"
      ]
     },
     "metadata": {
      "needs_background": "light"
     },
     "output_type": "display_data"
    }
   ],
   "source": [
    "labels = ['Marksman 1', 'Marksman 2', 'Marksman 3']\n",
    "post_training = np.array([142, 187, 172])\n",
    "exp_frequency = np.array([120, 200, 180])\n",
    "\n",
    "x = np.arange(len(labels))\n",
    "width = .2\n",
    "\n",
    "_, ax = plt.subplots(figsize=(6, 4), dpi=100)\n",
    "\n",
    "rects1 = ax.bar(x - width / 2, post_training, width, label='Post-Training')\n",
    "rects2 = ax.bar(x + width / 2, exp_frequency, width, label='Exp. Freq.')\n",
    "\n",
    "ax.set(ylabel='Scores', title='Scores of Exp. Freq. And Post-Training')\n",
    "ax.set(xticks=x, xticklabels=labels)\n",
    "ax.legend()\n",
    "\n",
    "plt.show()"
   ]
  },
  {
   "cell_type": "markdown",
   "metadata": {},
   "source": [
    "If the expected and observed frequencies differ significantly, we would conclude a rejection to the null hypothesis. The test statistic is \n",
    "$$\n",
    "χ^2=∑_{i=1}^k\\frac{(f_i-e_i)^2}{e_i}\n",
    "$$\n",
    "where $f_i$ and $e_i$ are observed and expected frequencies. In this example, $χ^2$ is\n",
    "$$\n",
    "χ^2 = \\frac{(f_1-e_1)^2}{e_1}+\\frac{(f_2-e_2)^2}{e_2}+\\frac{(f_3-e_3)^2}{e_3}\n",
    "$$"
   ]
  },
  {
   "cell_type": "markdown",
   "metadata": {},
   "source": [
    "Compute the $χ^2$"
   ]
  },
  {
   "cell_type": "code",
   "execution_count": 15,
   "metadata": {},
   "outputs": [
    {
     "data": {
      "text/plain": [
       "5.233888888888888"
      ]
     },
     "execution_count": 15,
     "metadata": {},
     "output_type": "execute_result"
    }
   ],
   "source": [
    "sum((post_training - exp_frequency)**2 / exp_frequency)"
   ]
  },
  {
   "cell_type": "markdown",
   "metadata": {},
   "source": [
    "Degree of freedom is $ν=k-1=2$, therefore the rejection region is \n",
    "$$\n",
    "χ^2>χ^2_{.05, 2}\n",
    "$$\n",
    "which can be found by ```stats.chi2.ppf```."
   ]
  },
  {
   "cell_type": "code",
   "execution_count": 16,
   "metadata": {},
   "outputs": [
    {
     "data": {
      "text/plain": [
       "5.991464547107979"
      ]
     },
     "execution_count": 16,
     "metadata": {},
     "output_type": "execute_result"
    }
   ],
   "source": [
    "stats.chi2.ppf(.95, 2)"
   ]
  },
  {
   "cell_type": "markdown",
   "metadata": {},
   "source": [
    "Because $χ^2$-statistic did not surpass the critical value, we conclude a fail to rejection of null hypothesis. That means even though the post-traning result is better than expectation, it's likely to be a statistical fluke rather than evidence of skill improvement."
   ]
  },
  {
   "cell_type": "markdown",
   "metadata": {
    "slideshow": {
     "slide_type": "slide"
    }
   },
   "source": [
    "# Analysis of one proportion\n",
    "\n",
    "Calculate the confidence intervals of the population, based on a given data sample.\n",
    "\n",
    "*Suppose a general practitioner chooses a random sample of 215 women from\n",
    "the patient register for her general practice, and finds that 39 of them\n",
    "have a history of suffering from asthma. What is the confidence interval\n",
    "for the prevalence of asthma?*  (The data are taken from Altman, chapter 10.2.1:)"
   ]
  },
  {
   "cell_type": "code",
   "execution_count": null,
   "metadata": {
    "collapsed": false,
    "jupyter": {
     "outputs_hidden": false
    },
    "slideshow": {
     "slide_type": "fragment"
    }
   },
   "outputs": [
    {
     "name": "stdout",
     "output_type": "stream",
     "text": [
      "ONE PROPORTION\n",
      "The confidence interval for the given sample is 0.130 to 0.233\n"
     ]
    }
   ],
   "source": [
    "# Get the data\n",
    "numTotal = 215\n",
    "numPositive = 39\n",
    "\n",
    "# Calculate the confidence intervals\n",
    "p = float(numPositive)/numTotal\n",
    "se = np.sqrt(p*(1-p)/numTotal)\n",
    "td = stats.t(numTotal-1)\n",
    "ci = p + np.array([-1,1])*td.isf(0.025)*se\n",
    "\n",
    "# Print them\n",
    "print('ONE PROPORTION')\n",
    "print('The confidence interval for the given sample is {0:5.3f} to {1:5.3f}'.format(\n",
    "    ci[0], ci[1]))"
   ]
  },
  {
   "cell_type": "markdown",
   "metadata": {
    "slideshow": {
     "slide_type": "slide"
    }
   },
   "source": [
    "# Chi-square test to a 2x2 table"
   ]
  },
  {
   "cell_type": "markdown",
   "metadata": {
    "slideshow": {
     "slide_type": "fragment"
    }
   },
   "source": [
    "Data are taken from Altman, Table 10.10:\n",
    "\n",
    "*Comparison of number of hours swimming by swimmers with or without erosion of dental enamel:*\n",
    "    >= 6h: 32 yes, 118 no\n",
    "    <  6h: 17 yes, 127 no\n",
    "    \n",
    "The calculations are done with and without Yate's continuity\n",
    "correction."
   ]
  },
  {
   "cell_type": "code",
   "execution_count": null,
   "metadata": {
    "collapsed": false,
    "jupyter": {
     "outputs_hidden": false
    },
    "slideshow": {
     "slide_type": "fragment"
    }
   },
   "outputs": [
    {
     "name": "stdout",
     "output_type": "stream",
     "text": [
      "CHI SQUARE\n",
      "The corrected chi2 value is 4.141, with p=0.042\n",
      "The uncorrected chi2 value is 4.802, with p=0.028\n"
     ]
    }
   ],
   "source": [
    "# Enter the data\n",
    "obs = np.array([[32, 118], [17, 127]])\n",
    "\n",
    "# Calculate the chi-square test\n",
    "chi2_corrected = stats.chi2_contingency(obs, correction=True)\n",
    "chi2_uncorrected = stats.chi2_contingency(obs, correction=False)\n",
    "\n",
    "# Print the result\n",
    "print('CHI SQUARE')\n",
    "print('The corrected chi2 value is {0:5.3f}, with p={1:5.3f}'.format(chi2_corrected[0], chi2_corrected[1]))\n",
    "print('The uncorrected chi2 value is {0:5.3f}, with p={1:5.3f}'.format(chi2_uncorrected[0], chi2_uncorrected[1]))"
   ]
  },
  {
   "cell_type": "markdown",
   "metadata": {
    "slideshow": {
     "slide_type": "slide"
    }
   },
   "source": [
    "# Fisher's Exact Test"
   ]
  },
  {
   "cell_type": "markdown",
   "metadata": {
    "slideshow": {
     "slide_type": "fragment"
    }
   },
   "source": [
    "*Spectacle wearing among juvenile delinquensts and non-delinquents who failed a vision test*\n",
    "\n",
    "- Spectecle wearers: 1 delinquent, 5 non-delinquents\n",
    "- non-spectacle wearers: 8 delinquents, 2 non-delinquents'''\n",
    "\n",
    "(Data are taken from Altman, Table 10.14)"
   ]
  },
  {
   "cell_type": "code",
   "execution_count": null,
   "metadata": {
    "collapsed": false,
    "jupyter": {
     "outputs_hidden": false
    },
    "slideshow": {
     "slide_type": "fragment"
    }
   },
   "outputs": [
    {
     "name": "stdout",
     "output_type": "stream",
     "text": [
      "The probability of obtaining a distribution at least as extreme as the one that was actually observed, assuming that the null hypothesis is true, is: 0.035.\n"
     ]
    }
   ],
   "source": [
    "# Enter the data\n",
    "obs = np.array([[1,5], [8,2]])\n",
    "\n",
    "# Calculate the Fisher Exact Test\n",
    "fisher_result = stats.fisher_exact(obs)\n",
    "\n",
    "# Print the result\n",
    "print('The probability of obtaining a distribution at least as extreme '\n",
    "+ 'as the one that was actually observed, assuming that the null ' +\n",
    "    'hypothesis is true, is: {0:5.3f}.'.format(fisher_result[1]))"
   ]
  },
  {
   "cell_type": "markdown",
   "metadata": {
    "slideshow": {
     "slide_type": "slide"
    }
   },
   "source": [
    "# Cochran's Q test"
   ]
  },
  {
   "cell_type": "markdown",
   "metadata": {
    "slideshow": {
     "slide_type": "fragment"
    }
   },
   "source": [
    "*12 subjects are asked to perform 3 tasks. The outcome of each task is \"success\" or \n",
    "\"failure\". The results are coded 0 for failure and 1 for success. In the example, subject 1 was successful\n",
    "in task 2, but failed tasks 1 and 3. Is there a difference between the performance on the three tasks?*"
   ]
  },
  {
   "cell_type": "code",
   "execution_count": null,
   "metadata": {
    "collapsed": false,
    "jupyter": {
     "outputs_hidden": false
    },
    "slideshow": {
     "slide_type": "fragment"
    }
   },
   "outputs": [
    {
     "name": "stdout",
     "output_type": "stream",
     "text": [
      "Q = 8.667, p = 0.013\n",
      "There is a significant difference between the three tasks.\n"
     ]
    }
   ],
   "source": [
    "from statsmodels.sandbox.stats.runs import cochrans_q\n",
    "\n",
    "tasks = np.array([[0,1,1,0,1,0,0,1,0,0,0,0],\n",
    "                  [1,1,1,0,0,1,0,1,1,1,1,1],\n",
    "                  [0,0,1,0,0,1,0,0,0,0,0,0]])\n",
    "\n",
    "# I prefer a DataFrame here, as it indicates directly what the values mean\n",
    "df = pd.DataFrame(tasks.T, columns = ['Task1', 'Task2', 'Task3'])\n",
    "\n",
    "# --- >>> START stats <<< ---\n",
    "(Q, pVal) = cochrans_q(df)\n",
    "# --- >>> STOP stats <<< ---\n",
    "\n",
    "print('Q = {0:5.3f}, p = {1:5.3f}'.format(Q, pVal))\n",
    "if pVal < 0.05:\n",
    "    print(\"There is a significant difference between the three tasks.\")"
   ]
  },
  {
   "cell_type": "markdown",
   "metadata": {
    "slideshow": {
     "slide_type": "slide"
    }
   },
   "source": [
    "# McNemar test"
   ]
  },
  {
   "cell_type": "markdown",
   "metadata": {
    "slideshow": {
     "slide_type": "fragment"
    }
   },
   "source": [
    "*McNemars Test should be run in the \"exact\" version, even though approximate formulas are\n",
    "typically given in the lecture scripts. Just ignore the statistic that is returned, because\n",
    "it is different for the two options.*\n",
    "\n",
    "*In the following example, a researcher attempts to determine if a drug has an effect on a\n",
    "particular disease. Counts of individuals are given in the table, with the diagnosis\n",
    "(disease: present or absent) before treatment given in the rows, and the diagnosis\n",
    "after treatment in the columns. The test requires the same subjects to be included in\n",
    "the before-and-after measurements (matched pairs).*"
   ]
  },
  {
   "cell_type": "code",
   "execution_count": null,
   "metadata": {
    "collapsed": false,
    "jupyter": {
     "outputs_hidden": false
    },
    "slideshow": {
     "slide_type": "fragment"
    }
   },
   "outputs": [
    {
     "name": "stdout",
     "output_type": "stream",
     "text": [
      "p = 4.434e-06\n",
      "There was a significant change in the disease by the treatment.\n"
     ]
    }
   ],
   "source": [
    "from statsmodels.sandbox.stats.runs import mcnemar\n",
    "\n",
    "f_obs = np.array([[101, 121],[59, 33]])\n",
    "(statistic, pVal) = mcnemar(f_obs)\n",
    "\n",
    "print('p = {0:5.3e}'.format(pVal))\n",
    "if pVal < 0.05:\n",
    "    print(\"There was a significant change in the disease by the treatment.\") "
   ]
  }
 ],
 "metadata": {
  "interpreter": {
   "hash": "1f13dcc718ad94914951089f1a229aa575a9f51c0e7fc146f2aaa6c454294dc4"
  },
  "kernelspec": {
   "display_name": "Python 3.9.7 64-bit ('kaggle': conda)",
   "name": "python3"
  },
  "language_info": {
   "file_extension": ".jl",
   "mimetype": "application/julia",
   "name": "python",
   "version": "3.9.7"
  },
  "toc": {
   "base_numbering": 1,
   "nav_menu": {},
   "number_sections": true,
   "sideBar": true,
   "skip_h1_title": false,
   "title_cell": "Table of Contents",
   "title_sidebar": "Contents",
   "toc_cell": false,
   "toc_position": {},
   "toc_section_display": true,
   "toc_window_display": false
  }
 },
 "nbformat": 4,
 "nbformat_minor": 4
}
