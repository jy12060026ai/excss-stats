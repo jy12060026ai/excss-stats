{
 "cells": [
  {
   "cell_type": "markdown",
   "metadata": {},
   "source": [
    "# Conditional Expectation"
   ]
  },
  {
   "cell_type": "code",
   "execution_count": 1,
   "metadata": {},
   "outputs": [],
   "source": [
    "import matplotlib.pyplot as plt\n",
    "import numpy as np"
   ]
  },
  {
   "cell_type": "markdown",
   "metadata": {},
   "source": [
    "## Mystery prize simulation\n",
    "\n",
    "We can use simulation to show that in Example 9.1.7, the example of bidding on a mystery prize with unknown value, any bid will lead to a negative payout on average. First choose a bid `b` (we chose 0.6); then simulate a large number of hypothetical mystery prizes using `rvs` in [`scipy.stats.uniform`](https://docs.scipy.org/doc/scipy/reference/generated/scipy.stats.uniform.html), and store them in `v`:"
   ]
  },
  {
   "cell_type": "code",
   "execution_count": 2,
   "metadata": {},
   "outputs": [],
   "source": [
    "# seed the random number generator\n",
    "np.random.seed(5702887)\n",
    "\n",
    "from scipy.stats import uniform\n",
    "\n",
    "b = 0.6\n",
    "nsim = 10**5\n",
    "v = uniform.rvs(size=nsim)"
   ]
  },
  {
   "cell_type": "markdown",
   "metadata": {},
   "source": [
    "The bid is accepted if `b > (2/3)*v`. To get the average profit conditional on an accepted bid, we use [`numpy.where`](https://docs.scipy.org/doc/numpy/reference/generated/numpy.where.html) to find the indices in `v` where the values satisfy the condition:"
   ]
  },
  {
   "cell_type": "code",
   "execution_count": 3,
   "metadata": {},
   "outputs": [
    {
     "name": "stdout",
     "output_type": "stream",
     "text": [
      "average profit conditional on an accepted bid: -0.1499047321616897\n"
     ]
    }
   ],
   "source": [
    "bid_accepted = v[np.where(b > (2/3)*v)]\n",
    "\n",
    "avg_profit = np.mean(bid_accepted) - b\n",
    "\n",
    "print('average profit conditional on an accepted bid: {}'.format(avg_profit))"
   ]
  },
  {
   "cell_type": "markdown",
   "metadata": {},
   "source": [
    "This value is negative regardless of `b`, as you can check by experimenting with different values of`b`.  Try changing the value for `b` in the code block above, and then hit SHIFT+ENTER to re-run the code blocks. You can also try changing the seed value for random number generation as well."
   ]
  },
  {
   "cell_type": "markdown",
   "metadata": {},
   "source": [
    "## Time until HH vs. HT\n",
    "\n",
    "To verify the results of Example 9.1.9, we can start by generating a long sequence of fair coin tosses. This is done with the [`numpy.random.choice`](https://docs.scipy.org/doc/numpy/reference/generated/numpy.random.choice.html) function. `numpy.random.choice` will chooose with replacement items from the specified list of `H` and `T`, returning a sequence of length specified bye the `size` parameter. We use [`str.join`](https://docs.python.org/3.7/library/string.html), passing in an empty `str` argument `''` to be interspersed between the elements in the given sequence. This results in a single string of `H`'s and `T`'s:"
   ]
  },
  {
   "cell_type": "code",
   "execution_count": 4,
   "metadata": {},
   "outputs": [
    {
     "data": {
      "text/plain": [
       "'HHHHTHHTTHTHTHTHTTHHHHTTHTTHHHHTHHHHHTHHHHHTTHHHHHHTTHHTHHHTTHTHHHHTTHHHTHTHTTHHTHTTHHHTTTHHTHTTTHHH'"
      ]
     },
     "execution_count": 4,
     "metadata": {},
     "output_type": "execute_result"
    }
   ],
   "source": [
    "''.join(np.random.choice(['H', 'T'], size=100))"
   ]
  },
  {
   "cell_type": "markdown",
   "metadata": {},
   "source": [
    "A sequence of length 100 is enough to virtually guarantee that both `HH` and `HT` will have appeared at least once.\n",
    "\n",
    "To determine how many tosses are required on average to see `HH` and `HT`, we need to generate many sequences of coin tosses. For this, we use our familiar friend [Python list comprehensions](https://docs.python.org/3/tutorial/datastructures.html#list-comprehensions) to execute a large number of iterations:"
   ]
  },
  {
   "cell_type": "code",
   "execution_count": 5,
   "metadata": {},
   "outputs": [],
   "source": [
    "np.random.seed(9227465)\n",
    "\n",
    "r = [''.join(np.random.choice(['H', 'T'], size=100)) for _ in range(10**3)]"
   ]
  },
  {
   "cell_type": "markdown",
   "metadata": {},
   "source": [
    "Now `r` contains a thousand sequences of coin tosses, each of length 100. To find the first appearance of `HH` in each of these sequences, it is easiest to use [regular expressions](https://docs.python.org/3.7/howto/regex.html) in Python's [`re`](https://docs.python.org/3.7/library/re.html) library.  We load the `re` library with the `import` keyword, and use `re.search` to obtain the start and end indices of the first appearance of `HH` in each sequence `ht_seq` in `r`."
   ]
  },
  {
   "cell_type": "code",
   "execution_count": 6,
   "metadata": {},
   "outputs": [
    {
     "name": "stdout",
     "output_type": "stream",
     "text": [
      "matrix t has shape: (1000, 2)\n"
     ]
    },
    {
     "data": {
      "text/plain": [
       "array([[1, 3],\n",
       "       [1, 3],\n",
       "       [4, 6],\n",
       "       [2, 4],\n",
       "       [3, 5],\n",
       "       [0, 2],\n",
       "       [4, 6],\n",
       "       [0, 2],\n",
       "       [5, 7],\n",
       "       [1, 3]])"
      ]
     },
     "execution_count": 6,
     "metadata": {},
     "output_type": "execute_result"
    }
   ],
   "source": [
    "import re\n",
    "\n",
    "# to learn more about re, un-comment ouf the following line\n",
    "#print(re.__doc__)\n",
    "\n",
    "target = 'HH'\n",
    "\n",
    "t = [re.search(target, ht_seq).span() for ht_seq in r]\n",
    "t = np.array(t)\n",
    "\n",
    "print('matrix t has shape: {}'.format(t.shape))\n",
    "\n",
    "t[0:10, :]"
   ]
  },
  {
   "cell_type": "markdown",
   "metadata": {},
   "source": [
    "The code above creates a two-column matrix `t`, whose columns contain the starting and ending positions of the first appearance of `HH` in each sequence of coin tosses. (Use `t[0:10, :]` to display the first 10 rows of the matrix and get an idea of what your results look like.) What we want are the ending positions, given by the second column. In particular, we want the average value of the second column, which is an approximation of the average waiting time for `HH`:"
   ]
  },
  {
   "cell_type": "code",
   "execution_count": 7,
   "metadata": {},
   "outputs": [
    {
     "name": "stdout",
     "output_type": "stream",
     "text": [
      "average waiting time for 'HH': 6.16\n"
     ]
    }
   ],
   "source": [
    "mean = t[:, 1].mean()\n",
    "\n",
    "print('average waiting time for \\'{}\\': {}'.format(target, mean))"
   ]
  },
  {
   "cell_type": "markdown",
   "metadata": {},
   "source": [
    "Is your answer around 6? Trying again with `HT` instead of `HH`, is your answer around 4? You can change the value of the `target` variable in the earlier code block, and then hit SHIFT+ENTER to execute the code blocks again."
   ]
  },
  {
   "cell_type": "markdown",
   "metadata": {},
   "source": [
    "## Linear regression"
   ]
  },
  {
   "cell_type": "markdown",
   "metadata": {},
   "source": [
    "In Example 9.3.10, we derived formulas for the slope and intercept of a linear regression model, which can be used to predict a response variable using an explanatory variable. Let's try to apply these formulas to a simulated dataset:"
   ]
  },
  {
   "cell_type": "code",
   "execution_count": 8,
   "metadata": {},
   "outputs": [],
   "source": [
    "np.random.seed(14930352)\n",
    "\n",
    "from scipy.stats import norm\n",
    "\n",
    "x = norm.rvs(size=100)\n",
    "y = 3 + 5*x + norm.rvs(size=100)"
   ]
  },
  {
   "cell_type": "markdown",
   "metadata": {},
   "source": [
    "The array `x` contains 100 realizations of the random variable $X \\sim N(0, 1)$ and the array `y` contains 100 realizations of the random variable $Y = a + bX + \\epsilon$, where $\\epsilon \\sim N(0,1)$. As we can see, the true values of $a$ and $b$ for this dataset are 3 and 5, respectively. We can visualize the data as a scatterplot with [`matplotlib.pyplot.scatter(x,y)`](https://matplotlib.org/api/_as_gen/matplotlib.pyplot.scatter.html)."
   ]
  },
  {
   "cell_type": "code",
   "execution_count": 9,
   "metadata": {},
   "outputs": [
    {
     "name": "stdout",
     "output_type": "stream",
     "text": [
      "b = 4.869568946916433\n",
      "a = 2.9953152340248237\n"
     ]
    }
   ],
   "source": [
    "# numpy.cov(x, y) returns a 2 x 2 covariance matrix\n",
    "#   cov(x,x)    cov(x,y)\n",
    "#   cov(y,x)    cov(y,y)\n",
    "cov_xy = np.cov(x, y, ddof=1)[0][1]\n",
    "var_x = np.var(x, ddof=1)\n",
    "\n",
    "b = cov_xy / var_x\n",
    "a = np.mean(y) - b*np.mean(x)\n",
    "\n",
    "print('b = {}'.format(b))\n",
    "print('a = {}'.format(a))"
   ]
  },
  {
   "cell_type": "markdown",
   "metadata": {},
   "source": [
    "Here `numpy.cov(x, y, ddof=1)[0][1]`, `numpy.var(x, ddof=1)`, and `numpy.mean(x)` provide the sample covariance, sample variance, and sample mean, estimating the quantities $Cov(X, Y), Var(X)$, and $\\mathbb{E}(X)$, respectively. (We have discussed sample mean and sample variance in detail in earlier chapters. Sample covariance is defined analogously, and is a natural way to estimate the true covariance.)\n",
    "\n",
    "You should find that `b` is close to 5 and `a` is close to 3. These estimated values define the line of best fit. We use yet another list comprehension to calculate `y` values corresponding to `x` on the best-fit line using `a` and `b`, and then `matplotlit.pyplot.plot` lets use render the _line of best fit_ on top of our scatterplot:"
   ]
  },
  {
   "cell_type": "code",
   "execution_count": 10,
   "metadata": {},
   "outputs": [
    {
     "data": {
      "image/png": "[encoded data removed]",
      "text/plain": [
       "<Figure size 432x288 with 1 Axes>"
      ]
     },
     "metadata": {
      "needs_background": "light"
     },
     "output_type": "display_data"
    }
   ],
   "source": [
    "plt.scatter(x, y, color='#91bfdb')\n",
    "\n",
    "abline_values = [b * val + a for val in x]\n",
    "\n",
    "plt.plot(x, abline_values, lw=2.2, alpha=0.8, color='#fc8d59')\n",
    "\n",
    "plt.xlabel('x')\n",
    "plt.ylabel('y')\n",
    "\n",
    "plt.show()"
   ]
  },
  {
   "cell_type": "markdown",
   "metadata": {},
   "source": [
    "----\n",
    "\n",
    "Joseph K. Blitzstein and Jessica Hwang, Harvard University and Stanford University, &copy; 2019 by Taylor and Francis Group, LLC"
   ]
  }
 ],
 "metadata": {
  "interpreter": {
   "hash": "1f13dcc718ad94914951089f1a229aa575a9f51c0e7fc146f2aaa6c454294dc4"
  },
  "kernelspec": {
   "display_name": "Python 3.9.7 64-bit ('kaggle': conda)",
   "name": "python3"
  },
  "language_info": {
   "codemirror_mode": {
    "name": "ipython",
    "version": 3
   },
   "file_extension": ".py",
   "mimetype": "text/x-python",
   "name": "python",
   "nbconvert_exporter": "python",
   "pygments_lexer": "ipython3",
   "version": "3.9.7"
  },
  "notebook_info": {
   "author": "Joseph K. Blitzstein, Jessica Hwang",
   "chapter": "9. Conditional Expectation",
   "creator": "buruzaemon",
   "section": "9.8",
   "title": "Introduction to Probability, 1st Edition"
  }
 },
 "nbformat": 4,
 "nbformat_minor": 2
}
