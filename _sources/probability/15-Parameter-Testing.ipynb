{
 "cells": [
  {
   "cell_type": "markdown",
   "metadata": {},
   "source": [
    "# Parameter Testing"
   ]
  },
  {
   "cell_type": "code",
   "execution_count": 1,
   "metadata": {},
   "outputs": [],
   "source": [
    "import matplotlib.pyplot as plt\n",
    "import numpy as np"
   ]
  },
  {
   "cell_type": "code",
   "execution_count": 2,
   "metadata": {},
   "outputs": [],
   "source": [
    "from scipy import special, stats"
   ]
  },
  {
   "cell_type": "markdown",
   "metadata": {},
   "source": [
    "# Point Estimator"
   ]
  },
  {
   "cell_type": "markdown",
   "metadata": {},
   "source": [
    "To estimate the population parameters (e.g. average income of man with a master degree), we compute corresponding characteristics of the sample, referred to as **sample statistic**. \n",
    "\n",
    "Any types of single value sample statistic is called **point estimator**, previously we have seen  **Sample mean, standard deviation, variance**, which all are point estimators of populations. For instance, $\\bar{x}$ is the point estimator of $μ$ and $s^2$ the point estimator of $σ^2$."
   ]
  },
  {
   "cell_type": "markdown",
   "metadata": {},
   "source": [
    "# Sample Size and Estimation Accuracy"
   ]
  },
  {
   "cell_type": "markdown",
   "metadata": {},
   "source": [
    "Here is a concrete example that demonstrates how sample sizes influence the estimation accuracy.\n",
    "\n",
    "To estimate the average height of female in the city of Helsinki, we measure the height of $n = 30$ female adults, we have the sample mean but we also would like to know if the sample mean is within $± 1.5cm$ of population mean. And we need to have a key but unrealistic assumption: we know the population standard deviation of the height: $σ = 6 cm$.\n",
    "\n",
    "Step 1: Because we know the $σ$, we can calculate the standard error of the mean by using \n",
    "\n",
    "$$\n",
    "\\begin{equation}\n",
    "σ_{\\bar{x}}=\\frac{σ}{\\sqrt{n}}= \\frac{6}{\\sqrt{30}}\n",
    "\\end{equation}\n",
    "$$"
   ]
  },
  {
   "cell_type": "code",
   "execution_count": 3,
   "metadata": {},
   "outputs": [
    {
     "data": {
      "text/plain": [
       "1.0954451150103321"
      ]
     },
     "execution_count": 3,
     "metadata": {},
     "output_type": "execute_result"
    }
   ],
   "source": [
    "sigma = 6\n",
    "std_err = sigma/np.sqrt(30)\n",
    "std_err"
   ]
  },
  {
   "cell_type": "markdown",
   "metadata": {},
   "source": [
    "Step 2: Calculate of range in terms of standard errors."
   ]
  },
  {
   "cell_type": "code",
   "execution_count": 4,
   "metadata": {},
   "outputs": [],
   "source": [
    "z_right = 1.5/std_err # plus or minus zr/zl units of std errors\n",
    "z_left = -1.5/std_err"
   ]
  },
  {
   "cell_type": "code",
   "execution_count": 5,
   "metadata": {},
   "outputs": [
    {
     "name": "stdout",
     "output_type": "stream",
     "text": [
      "The probability of sample mean (sample size = 30) being within 1.5cm of pop mean is 82.91%.\n"
     ]
    }
   ],
   "source": [
    "p = stats.norm.cdf(z_right) - stats.norm.cdf(z_left)\n",
    "print(\n",
    "    f'The probability of sample mean (sample size = 30) being within 1.5cm of pop mean is {p*100:.2f}%.'\n",
    ")"
   ]
  },
  {
   "cell_type": "markdown",
   "metadata": {},
   "source": [
    "Now let's increase the sample size to 60 persons. "
   ]
  },
  {
   "cell_type": "code",
   "execution_count": 6,
   "metadata": {},
   "outputs": [
    {
     "name": "stdout",
     "output_type": "stream",
     "text": [
      "The probability of sample mean (sample size = 60) being within 1.5cm of pop mean is 94.72%.\n"
     ]
    }
   ],
   "source": [
    "sigma = 6\n",
    "ss = 60\n",
    "\n",
    "std_err = sigma / np.sqrt(ss)\n",
    "zr = 1.5 / std_err\n",
    "zl = -1.5 / std_err\n",
    "p = stats.norm.cdf(zr) - stats.norm.cdf(zl)\n",
    "print(\n",
    "    f'The probability of sample mean (sample size = {ss}) being within 1.5cm of pop mean is {p*100:.2f}%.'\n",
    ")\n"
   ]
  },
  {
   "cell_type": "markdown",
   "metadata": {},
   "source": [
    "And this figure can show how the sample size can influence the estimation accuracy. We will come back to similar topics in interval estimations."
   ]
  },
  {
   "cell_type": "code",
   "execution_count": 7,
   "metadata": {},
   "outputs": [
    {
     "data": {
      "image/png": "[encoded data removed]",
      "text/plain": [
       "<Figure size 600x400 with 1 Axes>"
      ]
     },
     "metadata": {
      "needs_background": "light"
     },
     "output_type": "display_data"
    }
   ],
   "source": [
    "sigma = 6\n",
    "p = np.zeros(100)\n",
    "\n",
    "for i in range(2, 100):\n",
    "    std_err = sigma / np.sqrt(i)\n",
    "    zr = 1.5 / std_err\n",
    "    zl = -1.5 / std_err\n",
    "    p[i] = stats.norm.cdf(zr) - stats.norm.cdf(zl)\n",
    "\n",
    "_, ax = plt.subplots(figsize=(6, 4), dpi=100)\n",
    "\n",
    "ax.plot(np.arange(100), p, lw=3, color='r')\n",
    "ax.set(xlabel='Sample Size',\n",
    "       ylabel='Probability',\n",
    "       title='The probability of sample mean being within 1.5cm of pop mean')\n",
    "plt.show()"
   ]
  },
  {
   "cell_type": "markdown",
   "metadata": {},
   "source": [
    "# Interval Estimation With Known $σ$"
   ]
  },
  {
   "cell_type": "markdown",
   "metadata": {},
   "source": [
    "The example above is exactly an **interval estimation** of population mean with known $σ$. We will dive deeper here, once you understand the logic of interval estimation, you will have much easier time in later chapters.\n",
    "\n",
    "We have talked about _Central Limit Theorem_ which guarantees that $\\bar{X}$ is normally distributed with sufficiently large samples. But we almost always convert $\\bar{X}$ into a standard normal distribution before making any inferences.\n",
    "$$\n",
    "Z=\\frac{\\bar{x}-μ}{σ/\\sqrt{n}}\n",
    "$$"
   ]
  },
  {
   "cell_type": "markdown",
   "metadata": {},
   "source": [
    "Essentially, it is a $z$-score of $\\bar{X}$ as we mentioned in chapter 1. To make any meaningful interval estimation, we need a notation $z_{α/2}$, such as $z_{0.025}=1.96$. It means the area to the right of $1.96$ is $0.025$.\n",
    "\n",
    "To establish an interval\n",
    "$$\n",
    "P\\bigg(-z_{α/2} < \\frac{\\bar{x}-μ}{σ/\\sqrt{n}} < z_{α/2}\\bigg)=.95\n",
    "$$\n",
    "With a bit rearrangement, which means that with $1-α$ probability the $X$ will fall in this range.\n",
    "$$\n",
    "P\\bigg(μ-z_{α/2}\\frac{σ}{\\sqrt{n}} < \\bar{x}< μ+z_{α/2}\\frac{σ}{\\sqrt{n}}\\bigg)=1-α\n",
    "$$\n",
    "\n",
    "The sample mean of women's height in Helsinki will fall in \n",
    "$$\n",
    "P\\bigg(170-1.96\\frac{6}{\\sqrt{30}} < \\bar{x}< 170+1.96\\frac{6}{\\sqrt{30}}\\bigg)=.95\n",
    "$$"
   ]
  },
  {
   "cell_type": "code",
   "execution_count": 8,
   "metadata": {},
   "outputs": [
    {
     "name": "stdout",
     "output_type": "stream",
     "text": [
      "167.85292757457975\n",
      "172.14707242542025\n"
     ]
    }
   ],
   "source": [
    "print(170-1.96*6/np.sqrt(30))\n",
    "print(170+1.96*6/np.sqrt(30))"
   ]
  },
  {
   "cell_type": "markdown",
   "metadata": {},
   "source": [
    "However expression above is less common in practice, more commonly $μ$ is set as the centre of the interval, a slight rearrangement gives us\n",
    "$$\n",
    "P\\bigg(\\bar{x}-Z_{α/2}\\frac{σ}{\\sqrt{n}}<μ<\\bar{x}+Z_{α/2}\\frac{σ}{\\sqrt{n}}\\bigg)\n",
    "$$\n",
    "\n",
    "this is officially called **confidence interval estimator of population mean**. It states that there is $1-α$ probability that $\\bar{X}$ will equal to a value such that the interval will include the population mean."
   ]
  },
  {
   "cell_type": "markdown",
   "metadata": {},
   "source": [
    "## Example of Sleeping Hours"
   ]
  },
  {
   "cell_type": "markdown",
   "metadata": {},
   "source": [
    "Suppose we have a sample of ten old person (>70 years old) whose average sleeping time recorded as below"
   ]
  },
  {
   "cell_type": "code",
   "execution_count": 9,
   "metadata": {},
   "outputs": [],
   "source": [
    "sleep_time = [8.3, 6.9, 4.3, 10.8, 7.9, 9.6, 6.8, 5.6, 7.7]"
   ]
  },
  {
   "cell_type": "markdown",
   "metadata": {},
   "source": [
    "The standard deviation of the population sleeping time is $2$, enough information to calculate the confidence interval of $95\\%$."
   ]
  },
  {
   "cell_type": "code",
   "execution_count": 10,
   "metadata": {},
   "outputs": [
    {
     "name": "stdout",
     "output_type": "stream",
     "text": [
      "Confidence interval of 95% is (6.24, 8.85).\n"
     ]
    }
   ],
   "source": [
    "LCL = np.mean(sleep_time) - 1.96 * 2 / np.sqrt(len(sleep_time))\n",
    "UCL = np.mean(sleep_time) + 1.96 * 2 / np.sqrt(len(sleep_time))\n",
    "print(f'Confidence interval of 95% is ({LCL:.2f}, {UCL:.2f}).')"
   ]
  },
  {
   "cell_type": "markdown",
   "metadata": {},
   "source": [
    "Because the sample size is considerably small, the confidence interval doesn't provide much info either. \n",
    "\n",
    "Here we've created a class for population of old people's sleeping time with some methods for easy computation of interval estimators, i.e. ```conf_interval``` for _known $σ$_ and ```conf_interval_t``` for _unknown $σ$_."
   ]
  },
  {
   "cell_type": "code",
   "execution_count": 11,
   "metadata": {},
   "outputs": [],
   "source": [
    "class OldPeopleSleep:\n",
    "    def __init__(self, mean, std, pop_size):\n",
    "        self.std = std\n",
    "        self.population = stats.norm.rvs(loc=mean, scale=std, size=pop_size)\n",
    "\n",
    "    def sampling(self, size):\n",
    "        self.sample = np.random.choice(self.population, size)\n",
    "\n",
    "    def conf_interval(self, confidence_level, two_tail=True):\n",
    "        '''For simplicity, we only show a two tail confidence interval.'''\n",
    "        if two_tail == True:\n",
    "            ppf = 1 - (1 - confidence_level) / 2\n",
    "            z = round(stats.norm.ppf(ppf), 2)\n",
    "            LCL = np.mean(\n",
    "                self.sample) - z * self.std / np.sqrt(len(self.sample))\n",
    "            UCL = np.mean(\n",
    "                self.sample) + z * self.std / np.sqrt(len(self.sample))\n",
    "            return LCL, UCL\n",
    "\n",
    "    def conf_interval_t(self, confidence_level, two_tail=True):\n",
    "        '''For simplicity, we only show a two tail confidence interval.'''\n",
    "        if two_tail == True:\n",
    "            ppf = 1 - (1 - confidence_level) / 2\n",
    "            t = round(stats.t.ppf(ppf, df=len(self.sample) - 1), 2)\n",
    "            LCL_t = np.mean(self.sample) - t * np.std(\n",
    "                self.sample, ddof=1) / np.sqrt(len(self.sample))\n",
    "            UCL_t = np.mean(self.sample) + t * np.std(\n",
    "                self.sample, ddof=1) / np.sqrt(len(self.sample))\n",
    "            return LCL_t, UCL_t"
   ]
  },
  {
   "cell_type": "markdown",
   "metadata": {},
   "source": [
    "Generate a population and take a sample of 100 persons, calculate the confidence interval"
   ]
  },
  {
   "cell_type": "code",
   "execution_count": 12,
   "metadata": {},
   "outputs": [
    {
     "data": {
      "text/plain": [
       "(7.180375905373877, 7.964375905373878)"
      ]
     },
     "execution_count": 12,
     "metadata": {},
     "output_type": "execute_result"
    }
   ],
   "source": [
    "population_mean = 7.5\n",
    "old_ppl = OldPeopleSleep(population_mean, std=2, pop_size=100000)\n",
    "old_ppl.sampling(100)\n",
    "old_ppl.conf_interval(.95, two_tail=True)"
   ]
  },
  {
   "cell_type": "markdown",
   "metadata": {},
   "source": [
    "We will simulate repetitive sampling and show that $95\\%$ of time the confidence interval can include the population mean. We draw sample ```simu_time``` times, each time calculate its confidence interval based on sampling distribution, if the population mean is included in confidence interval, we append a $1$ onto a list named ```conf_inclusion```, otherwise append a $0$. \n",
    "\n",
    "It shows that round $95\\%$ of times the confidence interval will indeed include population mean."
   ]
  },
  {
   "cell_type": "code",
   "execution_count": 13,
   "metadata": {},
   "outputs": [
    {
     "name": "stdout",
     "output_type": "stream",
     "text": [
      "Total number of simulation: 10000\n",
      "Number of inclusion: 9499\n",
      "Inclusion rate: 0.9499\n"
     ]
    }
   ],
   "source": [
    "conf_inclusion = []\n",
    "simu_time = 10000\n",
    "\n",
    "for i in range(simu_time):\n",
    "    old_ppl.sampling(100)\n",
    "    conf_interval = old_ppl.conf_interval(.95, two_tail=True)\n",
    "    if conf_interval[\n",
    "            0] <= population_mean and population_mean <= conf_interval[1]:\n",
    "        conf_inclusion.append(1)\n",
    "    else:\n",
    "        conf_inclusion.append(0)\n",
    "\n",
    "print(f'Total number of simulation: {simu_time}')\n",
    "print(f'Number of inclusion: {np.sum(conf_inclusion)}')\n",
    "print(\n",
    "    f'Inclusion rate: {np.sum(conf_inclusion) / len(conf_inclusion)}')"
   ]
  },
  {
   "cell_type": "markdown",
   "metadata": {},
   "source": [
    "# Interval Estimation With Unknown $σ$"
   ]
  },
  {
   "cell_type": "markdown",
   "metadata": {},
   "source": [
    "In practice, we barely have the knowledge of the $σ$, then $s$ is used instead. Because of unknown $σ$, the sampling distribution of mean will be based on $t$-distribution. A $t$-distribution with large degree of freedom is very close to a normal distribution, while smaller degree of freedom will cause fatter tails in $t$-distribution than normal distribution.\n",
    "\n",
    "The notation of interval estimator based on $t$-distribution is similar to the one based on the normal distribution\n",
    "$$\n",
    "P\\bigg(\\bar{x}-t_{α/2}\\frac{s}{\\sqrt{n}}<μ<\\bar{x}+t_{α/2}\\frac{s}{\\sqrt{n}}\\bigg)\n",
    "$$\n",
    "where $s$ is the sample standard deviation\n",
    "$$ \n",
    "s = \\sqrt{\\frac{∑(x_i - \\bar{x})^2}{n-1}}\n",
    "$$"
   ]
  },
  {
   "cell_type": "markdown",
   "metadata": {},
   "source": [
    "We can compare the confidence based on normal and $t$-distribution, very similar."
   ]
  },
  {
   "cell_type": "code",
   "execution_count": 14,
   "metadata": {},
   "outputs": [
    {
     "name": "stdout",
     "output_type": "stream",
     "text": [
      "(5.9851485318579, 8.46437421742991)\n",
      "(5.976685262511503, 8.472837486776307)\n"
     ]
    }
   ],
   "source": [
    "population_mean = 7.5\n",
    "old_ppl = OldPeopleSleep(population_mean, std=2, pop_size=100000)\n",
    "old_ppl.sampling(10)\n",
    "print(old_ppl.conf_interval(.95, two_tail=True))\n",
    "print(old_ppl.conf_interval_t(.95, two_tail=True))"
   ]
  },
  {
   "cell_type": "code",
   "execution_count": 15,
   "metadata": {},
   "outputs": [
    {
     "name": "stdout",
     "output_type": "stream",
     "text": [
      "Total number of simulation: 10000\n",
      "Number of inclusion: 9499\n",
      "Inclusion rate: 0.9499\n"
     ]
    }
   ],
   "source": [
    "conf_inclusion_t = []\n",
    "simu_time = 10000\n",
    "\n",
    "for i in range(simu_time):\n",
    "    old_ppl.sampling(100)\n",
    "    conf_interval_t = old_ppl.conf_interval_t(.95, two_tail=True)\n",
    "    if conf_interval_t[\n",
    "            0] <= population_mean and population_mean <= conf_interval_t[1]:\n",
    "        conf_inclusion_t.append(1)\n",
    "    else:\n",
    "        conf_inclusion_t.append(0)\n",
    "\n",
    "print(f'Total number of simulation: {simu_time}')\n",
    "print(f'Number of inclusion: {np.sum(conf_inclusion)}')\n",
    "print(f'Inclusion rate: {np.sum(conf_inclusion) / len(conf_inclusion)}')"
   ]
  }
 ],
 "metadata": {
  "interpreter": {
   "hash": "1f13dcc718ad94914951089f1a229aa575a9f51c0e7fc146f2aaa6c454294dc4"
  },
  "kernelspec": {
   "display_name": "Python 3.9.7 64-bit ('kaggle': conda)",
   "name": "python3"
  },
  "language_info": {
   "codemirror_mode": {
    "name": "ipython",
    "version": 3
   },
   "file_extension": ".py",
   "mimetype": "text/x-python",
   "name": "python",
   "nbconvert_exporter": "python",
   "pygments_lexer": "ipython3",
   "version": "3.9.7"
  },
  "toc": {
   "base_numbering": 1,
   "nav_menu": {},
   "number_sections": true,
   "sideBar": true,
   "skip_h1_title": false,
   "title_cell": "Table of Contents",
   "title_sidebar": "Contents",
   "toc_cell": false,
   "toc_position": {},
   "toc_section_display": true,
   "toc_window_display": false
  }
 },
 "nbformat": 4,
 "nbformat_minor": 4
}
