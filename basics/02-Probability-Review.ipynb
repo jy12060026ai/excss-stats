{
 "cells": [
  {
   "cell_type": "code",
   "execution_count": 1,
   "source": [
    "import matplotlib.pyplot as plt\n",
    "import numpy as np\n",
    "import pandas as pd\n",
    "import seaborn as sns\n",
    "\n",
    "plt.style.use('seaborn-whitegrid')\n",
    "np.set_printoptions(precision=4) \n",
    "np.set_printoptions(suppress=True)"
   ],
   "outputs": [],
   "metadata": {}
  },
  {
   "cell_type": "code",
   "execution_count": 2,
   "source": [
    "from scipy import stats\n",
    "import sympy as sy\n",
    "import fractions as fr"
   ],
   "outputs": [],
   "metadata": {}
  },
  {
   "cell_type": "markdown",
   "source": [
    "To proceed with inferential statistics, there is no way to circumvent **probability theory** and it's undoubtedly the most important mathematical subject should you ever know in your life. Once probability view deeply implanted in your mind, you would have a revolutionary world view.\n",
    "\n",
    "Here we will review the probability theory in a textbook style, i.e. start from defining sets."
   ],
   "metadata": {}
  },
  {
   "cell_type": "markdown",
   "source": [
    "# Basic Concepts Refresh"
   ],
   "metadata": {}
  },
  {
   "cell_type": "markdown",
   "source": [
    "## Sets"
   ],
   "metadata": {}
  },
  {
   "cell_type": "markdown",
   "source": [
    "A set is a collection of _distinct elements_, for instance, $(1, 2, 3)$ is a set, but $(2, 2, 3)$ isn't. Here we will demonstrate a bit of **SymPy** library, only scratching the surface. SymPy is an extremely powerful library, there are extensive examples in the <a href=\"https://github.com/MacroAnalyst/Linear_Algebra_With_Python\">**Linear Algebra With Python**<a> training sessions.\n",
    "\n",
    "We'll start from defining sets then basic operations. ```sy.``` is alias of ```sympy```."
   ],
   "metadata": {}
  },
  {
   "cell_type": "code",
   "execution_count": 16,
   "source": [
    "s = sy.FiniteSet(2, 3, 4, 5, 6); s"
   ],
   "outputs": [
    {
     "output_type": "execute_result",
     "data": {
      "text/latex": [
       "$\\displaystyle \\left\\{2, 3, 4, 5, 6\\right\\}$"
      ],
      "text/plain": [
       "FiniteSet(2, 3, 4, 5, 6)"
      ]
     },
     "metadata": {},
     "execution_count": 16
    }
   ],
   "metadata": {}
  },
  {
   "cell_type": "code",
   "execution_count": 7,
   "source": [
    "s1 = sy.FiniteSet(2, 1/2, fr.Fraction(1,2), 8);\n",
    "s1"
   ],
   "outputs": [
    {
     "output_type": "execute_result",
     "data": {
      "text/latex": [
       "$\\displaystyle \\left\\{0.5, \\frac{1}{2}, 2, 8\\right\\}$"
      ],
      "text/plain": [
       "FiniteSet(0.5, 1/2, 2, 8)"
      ]
     },
     "metadata": {},
     "execution_count": 7
    }
   ],
   "metadata": {}
  },
  {
   "cell_type": "markdown",
   "source": [
    "Check if $2$ is in the set $S_1$"
   ],
   "metadata": {}
  },
  {
   "cell_type": "code",
   "execution_count": 8,
   "source": [
    "x = 2\n",
    "if x in s1:\n",
    "    print(f'{x} is in the set!')"
   ],
   "outputs": [
    {
     "output_type": "stream",
     "name": "stdout",
     "text": [
      "2 is in the set!\n"
     ]
    }
   ],
   "metadata": {}
  },
  {
   "cell_type": "markdown",
   "source": [
    "Convert a list into a set, the list needs unpacking with $*$."
   ],
   "metadata": {}
  },
  {
   "cell_type": "code",
   "execution_count": 9,
   "source": [
    "s3_list = [1, 3, 5, 7, 8]\n",
    "s3 = sy.FiniteSet(*s3_list); s3"
   ],
   "outputs": [
    {
     "output_type": "execute_result",
     "data": {
      "text/latex": [
       "$\\displaystyle \\left\\{1, 3, 5, 7, 8\\right\\}$"
      ],
      "text/plain": [
       "FiniteSet(1, 3, 5, 7, 8)"
      ]
     },
     "metadata": {},
     "execution_count": 9
    }
   ],
   "metadata": {}
  },
  {
   "cell_type": "markdown",
   "source": [
    "## Subsets, Supersets and Power Sets"
   ],
   "metadata": {}
  },
  {
   "cell_type": "markdown",
   "source": [
    "Now define two sets, $a$ is a **superset** of $b$ ($a\\supseteq b$), then $b$ is called a **subset** of $a$ ($b\\subseteq a$). "
   ],
   "metadata": {}
  },
  {
   "cell_type": "code",
   "execution_count": 10,
   "source": [
    "a = sy.FiniteSet(1,2,3,4,5)\n",
    "b = sy.FiniteSet(2,3,4)"
   ],
   "outputs": [],
   "metadata": {}
  },
  {
   "cell_type": "markdown",
   "source": [
    "In this example, $a$ is a **proper superset** of $b$ denoted as $a\\supset b$, $b$ is a **proper subset** of $a$ denoted as $b\\subset a$.\n",
    "\n",
    "The methods ```is_subset``` and ```is_superset``` are doing exactly as their names say."
   ],
   "metadata": {}
  },
  {
   "cell_type": "code",
   "execution_count": 11,
   "source": [
    "b.is_subset(a)"
   ],
   "outputs": [
    {
     "output_type": "execute_result",
     "data": {
      "text/plain": [
       "True"
      ]
     },
     "metadata": {},
     "execution_count": 11
    }
   ],
   "metadata": {}
  },
  {
   "cell_type": "code",
   "execution_count": 12,
   "source": [
    "a.is_superset(b)"
   ],
   "outputs": [
    {
     "output_type": "execute_result",
     "data": {
      "text/plain": [
       "True"
      ]
     },
     "metadata": {},
     "execution_count": 12
    }
   ],
   "metadata": {}
  },
  {
   "cell_type": "markdown",
   "source": [
    "The **powerset** is set contains all subsets, including the empty set and itself."
   ],
   "metadata": {}
  },
  {
   "cell_type": "code",
   "execution_count": 13,
   "source": [
    "b.powerset()"
   ],
   "outputs": [
    {
     "output_type": "execute_result",
     "data": {
      "text/latex": [
       "$\\displaystyle \\left\\{\\emptyset, \\left\\{2\\right\\}, \\left\\{3\\right\\}, \\left\\{4\\right\\}, \\left\\{2, 3\\right\\}, \\left\\{2, 4\\right\\}, \\left\\{3, 4\\right\\}, \\left\\{2, 3, 4\\right\\}\\right\\}$"
      ],
      "text/plain": [
       "FiniteSet(FiniteSet(2), FiniteSet(2, 3), FiniteSet(2, 4), FiniteSet(2, 3, 4), FiniteSet(3), FiniteSet(3, 4), FiniteSet(4), EmptySet)"
      ]
     },
     "metadata": {},
     "execution_count": 13
    }
   ],
   "metadata": {}
  },
  {
   "cell_type": "markdown",
   "source": [
    "Any sets are their own subset, but not their proper subset."
   ],
   "metadata": {}
  },
  {
   "cell_type": "code",
   "execution_count": 14,
   "source": [
    "b.is_subset(b)"
   ],
   "outputs": [
    {
     "output_type": "execute_result",
     "data": {
      "text/plain": [
       "True"
      ]
     },
     "metadata": {},
     "execution_count": 14
    }
   ],
   "metadata": {}
  },
  {
   "cell_type": "code",
   "execution_count": null,
   "source": [
    "b.is_proper_subset(b)"
   ],
   "outputs": [
    {
     "output_type": "execute_result",
     "data": {
      "text/plain": [
       "False"
      ]
     },
     "metadata": {},
     "execution_count": 11
    }
   ],
   "metadata": {}
  },
  {
   "cell_type": "markdown",
   "source": [
    "## Set Operations"
   ],
   "metadata": {}
  },
  {
   "cell_type": "markdown",
   "source": [
    "Define two sets again."
   ],
   "metadata": {}
  },
  {
   "cell_type": "code",
   "execution_count": 17,
   "source": [
    "a = sy.FiniteSet(1,2,3)\n",
    "b = sy.FiniteSet(2,3,4)\n",
    "display(a)\n",
    "display(b)"
   ],
   "outputs": [
    {
     "output_type": "display_data",
     "data": {
      "text/latex": [
       "$\\displaystyle \\left\\{1, 2, 3\\right\\}$"
      ],
      "text/plain": [
       "FiniteSet(1, 2, 3)"
      ]
     },
     "metadata": {}
    },
    {
     "output_type": "display_data",
     "data": {
      "text/latex": [
       "$\\displaystyle \\left\\{2, 3, 4\\right\\}$"
      ],
      "text/plain": [
       "FiniteSet(2, 3, 4)"
      ]
     },
     "metadata": {}
    }
   ],
   "metadata": {}
  },
  {
   "cell_type": "markdown",
   "source": [
    "**Union** and **intersection** are sympy object methods, the same as we've learned in high school."
   ],
   "metadata": {}
  },
  {
   "cell_type": "code",
   "execution_count": 18,
   "source": [
    "display(a.union(b))\n",
    "display(a.intersect(b))"
   ],
   "outputs": [
    {
     "output_type": "display_data",
     "data": {
      "text/latex": [
       "$\\displaystyle \\left\\{1, 2, 3, 4\\right\\}$"
      ],
      "text/plain": [
       "FiniteSet(1, 2, 3, 4)"
      ]
     },
     "metadata": {}
    },
    {
     "output_type": "display_data",
     "data": {
      "text/latex": [
       "$\\displaystyle \\left\\{2, 3\\right\\}$"
      ],
      "text/plain": [
       "FiniteSet(2, 3)"
      ]
     },
     "metadata": {}
    }
   ],
   "metadata": {}
  },
  {
   "cell_type": "markdown",
   "source": [
    "## Python Built-in Sets And Operations"
   ],
   "metadata": {}
  },
  {
   "cell_type": "markdown",
   "source": [
    "Sets operations are fairly common in general programming, therefore Python has built-in operations for sets. Here are examples using built-in function. \n",
    "\n",
    "We define sets in Python with ```{}```, which are the same for the dictionaries."
   ],
   "metadata": {}
  },
  {
   "cell_type": "code",
   "execution_count": 19,
   "source": [
    "a = {1, 3, 5, 7, 9}\n",
    "b = {1, 7, 10}"
   ],
   "outputs": [],
   "metadata": {}
  },
  {
   "cell_type": "code",
   "execution_count": 20,
   "source": [
    "type(a)"
   ],
   "outputs": [
    {
     "output_type": "execute_result",
     "data": {
      "text/plain": [
       "set"
      ]
     },
     "metadata": {},
     "execution_count": 20
    }
   ],
   "metadata": {}
  },
  {
   "cell_type": "markdown",
   "source": [
    "Union operation."
   ],
   "metadata": {}
  },
  {
   "cell_type": "code",
   "execution_count": null,
   "source": [
    "a | b"
   ],
   "outputs": [
    {
     "output_type": "execute_result",
     "data": {
      "text/plain": [
       "{1, 3, 5, 7, 9, 10}"
      ]
     },
     "metadata": {},
     "execution_count": 16
    }
   ],
   "metadata": {}
  },
  {
   "cell_type": "markdown",
   "source": [
    "or"
   ],
   "metadata": {}
  },
  {
   "cell_type": "code",
   "execution_count": null,
   "source": [
    "a.union(b)"
   ],
   "outputs": [
    {
     "output_type": "execute_result",
     "data": {
      "text/plain": [
       "{1, 3, 5, 7, 9, 10}"
      ]
     },
     "metadata": {},
     "execution_count": 17
    }
   ],
   "metadata": {}
  },
  {
   "cell_type": "markdown",
   "source": [
    "Intersection."
   ],
   "metadata": {}
  },
  {
   "cell_type": "code",
   "execution_count": null,
   "source": [
    "a & b"
   ],
   "outputs": [
    {
     "output_type": "execute_result",
     "data": {
      "text/plain": [
       "{1, 7}"
      ]
     },
     "metadata": {},
     "execution_count": 18
    }
   ],
   "metadata": {}
  },
  {
   "cell_type": "markdown",
   "source": [
    "Or"
   ],
   "metadata": {}
  },
  {
   "cell_type": "code",
   "execution_count": null,
   "source": [
    "a.intersection(b)"
   ],
   "outputs": [
    {
     "output_type": "execute_result",
     "data": {
      "text/plain": [
       "{1, 7}"
      ]
     },
     "metadata": {},
     "execution_count": 19
    }
   ],
   "metadata": {}
  },
  {
   "cell_type": "markdown",
   "source": [
    "Set difference."
   ],
   "metadata": {}
  },
  {
   "cell_type": "code",
   "execution_count": null,
   "source": [
    "a - b"
   ],
   "outputs": [
    {
     "output_type": "execute_result",
     "data": {
      "text/plain": [
       "{3, 5, 9}"
      ]
     },
     "metadata": {},
     "execution_count": 20
    }
   ],
   "metadata": {}
  },
  {
   "cell_type": "code",
   "execution_count": null,
   "source": [
    "a.difference(b)"
   ],
   "outputs": [
    {
     "output_type": "execute_result",
     "data": {
      "text/plain": [
       "{3, 5, 9}"
      ]
     },
     "metadata": {},
     "execution_count": 21
    }
   ],
   "metadata": {}
  },
  {
   "cell_type": "markdown",
   "source": [
    "## Cartesian Product"
   ],
   "metadata": {}
  },
  {
   "cell_type": "markdown",
   "source": [
    "The famous **Cartesian product** is defined mathematically as below.\n",
    "\n",
    "Two sets multiply each other, the result presents all the possible ordered paired, the first element from $A$, the second element from $B$."
   ],
   "metadata": {}
  },
  {
   "cell_type": "markdown",
   "source": [
    "$$\n",
    "A\\times B=\\{(a,b)\\mid a\\in A\\ {\\mbox{ and }}\\ b\\in B\\}\n",
    "$$"
   ],
   "metadata": {}
  },
  {
   "cell_type": "markdown",
   "source": [
    "A visual example would be helpful. Define two sets, then compute the Cartesian product by multiplication."
   ],
   "metadata": {}
  },
  {
   "cell_type": "code",
   "execution_count": 21,
   "source": [
    "x = sy.FiniteSet(*list(range(1, 6)))\n",
    "y = sy.FiniteSet(*list(range(2, 7)))\n",
    "z = x*y # Cartesian producet\n",
    "z"
   ],
   "outputs": [
    {
     "output_type": "execute_result",
     "data": {
      "text/latex": [
       "$\\displaystyle \\left\\{1, 2, 3, 4, 5\\right\\} \\times \\left\\{2, 3, 4, 5, 6\\right\\}$"
      ],
      "text/plain": [
       "ProductSet(FiniteSet(1, 2, 3, 4, 5), FiniteSet(2, 3, 4, 5, 6))"
      ]
     },
     "metadata": {},
     "execution_count": 21
    }
   ],
   "metadata": {}
  },
  {
   "cell_type": "code",
   "execution_count": 22,
   "source": [
    "_, ax = plt.subplots(figsize=(6, 4), dpi=100)\n",
    "\n",
    "for i in z:\n",
    "    ax.scatter(i[0], i[1], s = 100)\n",
    "\n",
    "ax.grid(True)\n",
    "ax.set(title='Cartesian Product')\n",
    "plt.show()"
   ],
   "outputs": [
    {
     "output_type": "display_data",
     "data": {
      "image/png": "[encoded data removed]",
      "text/plain": [
       "<Figure size 600x400 with 1 Axes>"
      ]
     },
     "metadata": {}
    }
   ],
   "metadata": {}
  },
  {
   "cell_type": "markdown",
   "source": [
    "Here's a more concrete example of Cartesian product, suppose H&M has a type of dress with different parameters, a Cartesian product will show them all combinations they could have. For instance, a dress with parameters $('XL', 'blue', 'polyester')$."
   ],
   "metadata": {}
  },
  {
   "cell_type": "code",
   "execution_count": 23,
   "source": [
    "# size = sy.FiniteSet('S', 'M', 'L', 'XL')\n",
    "colours = sy.FiniteSet('red', 'black', 'blue', 'white')\n",
    "material = sy.FiniteSet('wool', 'cotton', 'polyester')\n",
    "colours * material"
   ],
   "outputs": [
    {
     "output_type": "execute_result",
     "data": {
      "text/latex": [
       "$\\displaystyle \\left\\{black, blue, red, white\\right\\} \\times \\left\\{cotton, polyester, wool\\right\\}$"
      ],
      "text/plain": [
       "ProductSet(FiniteSet(black, blue, red, white), FiniteSet(cotton, polyester, wool))"
      ]
     },
     "metadata": {},
     "execution_count": 23
    }
   ],
   "metadata": {}
  },
  {
   "cell_type": "markdown",
   "source": [
    "## Probability and Event"
   ],
   "metadata": {}
  },
  {
   "cell_type": "markdown",
   "source": [
    "After demonstrating so many sets theory, but how are they used in probability theory?\n",
    "\n",
    "Dice rolling problem never gets old. To answer the question: _what is the probability of rolling an odd number_? We will show how to answer the question with set operations."
   ],
   "metadata": {}
  },
  {
   "cell_type": "code",
   "execution_count": 24,
   "source": [
    "s = sy.FiniteSet(1,2,3,4,5,6) \n",
    "odd = sy.FiniteSet(1,3,5)\n",
    "p = len(odd)/len(s)\n",
    "p"
   ],
   "outputs": [
    {
     "output_type": "execute_result",
     "data": {
      "text/plain": [
       "0.5"
      ]
     },
     "metadata": {},
     "execution_count": 24
    }
   ],
   "metadata": {}
  },
  {
   "cell_type": "markdown",
   "source": [
    "This is vastly intuitive, just the proportion of odd sides over all sides."
   ],
   "metadata": {}
  },
  {
   "cell_type": "markdown",
   "source": [
    "## Two Dice Problem"
   ],
   "metadata": {}
  },
  {
   "cell_type": "markdown",
   "source": [
    "Two dice problem is slightly more complicated. Now we are asking: _what's the probability of getting a $7$ while rolling them together_."
   ],
   "metadata": {}
  },
  {
   "cell_type": "markdown",
   "source": [
    "Create a dictionary to hold the Cartesian product of two dice and its sum. The ```.update``` function is for adding elements in the dictionary if the updated key didn't exist."
   ],
   "metadata": {}
  },
  {
   "cell_type": "code",
   "execution_count": 25,
   "source": [
    "special.comb(26, 3)  # combination\n",
    "for i in range(1,7):\n",
    "    for j in range(1,7):\n",
    "        dice_cartesian.update({(i, j):i + j})\n",
    "        \n",
    "dice_cartesian"
   ],
   "outputs": [
    {
     "output_type": "execute_result",
     "data": {
      "text/plain": [
       "{(1, 1): 2,\n",
       " (1, 2): 3,\n",
       " (1, 3): 4,\n",
       " (1, 4): 5,\n",
       " (1, 5): 6,\n",
       " (1, 6): 7,\n",
       " (2, 1): 3,\n",
       " (2, 2): 4,\n",
       " (2, 3): 5,\n",
       " (2, 4): 6,\n",
       " (2, 5): 7,\n",
       " (2, 6): 8,\n",
       " (3, 1): 4,\n",
       " (3, 2): 5,\n",
       " (3, 3): 6,\n",
       " (3, 4): 7,\n",
       " (3, 5): 8,\n",
       " (3, 6): 9,\n",
       " (4, 1): 5,\n",
       " (4, 2): 6,\n",
       " (4, 3): 7,\n",
       " (4, 4): 8,\n",
       " (4, 5): 9,\n",
       " (4, 6): 10,\n",
       " (5, 1): 6,\n",
       " (5, 2): 7,\n",
       " (5, 3): 8,\n",
       " (5, 4): 9,\n",
       " (5, 5): 10,\n",
       " (5, 6): 11,\n",
       " (6, 1): 7,\n",
       " (6, 2): 8,\n",
       " (6, 3): 9,\n",
       " (6, 4): 10,\n",
       " (6, 5): 11,\n",
       " (6, 6): 12}"
      ]
     },
     "metadata": {},
     "execution_count": 25
    }
   ],
   "metadata": {}
  },
  {
   "cell_type": "markdown",
   "source": [
    "Python dictionary has a method ```.items()``` that lists all key-value pairs in tuples. We'll make use of this method in the loop below."
   ],
   "metadata": {}
  },
  {
   "cell_type": "code",
   "execution_count": 26,
   "source": [
    "special.perm(26, 3)  # permutation\n"
   ],
   "outputs": [
    {
     "output_type": "execute_result",
     "data": {
      "text/plain": [
       "dict_items([((1, 1), 2), ((1, 2), 3), ((1, 3), 4), ((1, 4), 5), ((1, 5), 6), ((1, 6), 7), ((2, 1), 3), ((2, 2), 4), ((2, 3), 5), ((2, 4), 6), ((2, 5), 7), ((2, 6), 8), ((3, 1), 4), ((3, 2), 5), ((3, 3), 6), ((3, 4), 7), ((3, 5), 8), ((3, 6), 9), ((4, 1), 5), ((4, 2), 6), ((4, 3), 7), ((4, 4), 8), ((4, 5), 9), ((4, 6), 10), ((5, 1), 6), ((5, 2), 7), ((5, 3), 8), ((5, 4), 9), ((5, 5), 10), ((5, 6), 11), ((6, 1), 7), ((6, 2), 8), ((6, 3), 9), ((6, 4), 10), ((6, 5), 11), ((6, 6), 12)])"
      ]
     },
     "metadata": {},
     "execution_count": 26
    }
   ],
   "metadata": {}
  },
  {
   "cell_type": "markdown",
   "source": [
    "Use ```defaultdict``` from ```collections``` module, it creates a dictionary which doesn't report errors and suitable for counting. We pass ```list``` as the _default factory_, meaning initialising values as lists whenever the key is given. "
   ],
   "metadata": {}
  },
  {
   "cell_type": "code",
   "execution_count": 27,
   "source": [
    "from collections import defaultdict\n",
    "\n",
    "dice_count = defaultdict(list) \n",
    "for i,j in dice_cartesian.items():\n",
    "    dice_count[j].append(i)\n",
    "dice_count"
   ],
   "outputs": [
    {
     "output_type": "execute_result",
     "data": {
      "text/plain": [
       "defaultdict(list,\n",
       "            {2: [(1, 1)],\n",
       "             3: [(1, 2), (2, 1)],\n",
       "             4: [(1, 3), (2, 2), (3, 1)],\n",
       "             5: [(1, 4), (2, 3), (3, 2), (4, 1)],\n",
       "             6: [(1, 5), (2, 4), (3, 3), (4, 2), (5, 1)],\n",
       "             7: [(1, 6), (2, 5), (3, 4), (4, 3), (5, 2), (6, 1)],\n",
       "             8: [(2, 6), (3, 5), (4, 4), (5, 3), (6, 2)],\n",
       "             9: [(3, 6), (4, 5), (5, 4), (6, 3)],\n",
       "             10: [(4, 6), (5, 5), (6, 4)],\n",
       "             11: [(5, 6), (6, 5)],\n",
       "             12: [(6, 6)]})"
      ]
     },
     "metadata": {},
     "execution_count": 27
    }
   ],
   "metadata": {}
  },
  {
   "cell_type": "markdown",
   "source": [
    "Create another dictionary holding all sums of dice and corresponding probabilities."
   ],
   "metadata": {}
  },
  {
   "cell_type": "code",
   "execution_count": 28,
   "source": [
    "Prob = {i:round(len(j)/6**2, 4) for i,j in dice_count.items()}; Prob"
   ],
   "outputs": [
    {
     "output_type": "execute_result",
     "data": {
      "text/plain": [
       "{2: 0.0278,\n",
       " 3: 0.0556,\n",
       " 4: 0.0833,\n",
       " 5: 0.1111,\n",
       " 6: 0.1389,\n",
       " 7: 0.1667,\n",
       " 8: 0.1389,\n",
       " 9: 0.1111,\n",
       " 10: 0.0833,\n",
       " 11: 0.0556,\n",
       " 12: 0.0278}"
      ]
     },
     "metadata": {},
     "execution_count": 28
    }
   ],
   "metadata": {}
  },
  {
   "cell_type": "markdown",
   "source": [
    "The example above actually is more about Python techniques, it also can be conveniently solved without making a fuss, as below:"
   ],
   "metadata": {}
  },
  {
   "cell_type": "code",
   "execution_count": 29,
   "source": [
    "def dice_prob(number):\n",
    "    dice1, dice2 = list(range(1, 7)), list(range(1, 7))\n",
    "    cartesian_dice = [(i, j) for i in dice1 for j in dice2\n",
    "                      ]  # list comprehension to create Cartesian product\n",
    "    ocurrence = 0\n",
    "    for element in cartesian_dice:\n",
    "        if np.sum(list(element)) == number:\n",
    "            ocurrence += 1\n",
    "    print('The probability of {} while rolling two dice is {:.2f}%'.format(\n",
    "        number, ocurrence / 6**2 * 100))\n"
   ],
   "outputs": [],
   "metadata": {}
  },
  {
   "cell_type": "code",
   "execution_count": 30,
   "source": [
    "dice_prob(7)"
   ],
   "outputs": [
    {
     "output_type": "stream",
     "name": "stdout",
     "text": [
      "The probability of 7 while rolling two dice is 16.67%\n"
     ]
    }
   ],
   "metadata": {}
  },
  {
   "cell_type": "markdown",
   "source": [
    "## Combination And Permutation"
   ],
   "metadata": {}
  },
  {
   "cell_type": "markdown",
   "source": [
    "Again, high school skills, two question to help differentiate them. \n",
    "<ol>\n",
    "<li>Pick 3 letters from English alphabet, how many ways to choose? <i>Use combination.</i></li> \n",
    "<li>Pick 3 letters from English alphabet to construct a word (doesn't have to be meaningful), how many ways to choose? <i>Use permutation.</i><\\li>\n",
    "</ol>"
   ],
   "metadata": {}
  },
  {
   "cell_type": "markdown",
   "source": [
    "Just remember: whenever needs certain order, use permutation, like the second question above, 'dog' and 'god' are different words though letters are the same. We don't need to memorise formula, but still FYI"
   ],
   "metadata": {}
  },
  {
   "cell_type": "markdown",
   "source": [
    "$$\n",
    "_nC_N = \\frac{N!}{n!(N-n)!}\\\\\n",
    "_nP_N = \\frac{N!}{(N-n)!}\n",
    "$$"
   ],
   "metadata": {}
  },
  {
   "cell_type": "code",
   "execution_count": 32,
   "source": [
    "from scipy import special"
   ],
   "outputs": [],
   "metadata": {}
  },
  {
   "cell_type": "code",
   "execution_count": 33,
   "source": [
    "special.comb(26, 3) # combination"
   ],
   "outputs": [
    {
     "output_type": "execute_result",
     "data": {
      "text/plain": [
       "2600.0"
      ]
     },
     "metadata": {},
     "execution_count": 33
    }
   ],
   "metadata": {}
  },
  {
   "cell_type": "code",
   "execution_count": 35,
   "source": [
    "special.perm(26, 3) # permutation"
   ],
   "outputs": [
    {
     "output_type": "execute_result",
     "data": {
      "text/plain": [
       "15600.0"
      ]
     },
     "metadata": {},
     "execution_count": 35
    }
   ],
   "metadata": {}
  },
  {
   "cell_type": "markdown",
   "source": [
    "# Conditional Probability, Multiplication Law and Independence"
   ],
   "metadata": {}
  },
  {
   "cell_type": "markdown",
   "source": [
    "All above are just warm-up, from here on comes the real deal of probability theory."
   ],
   "metadata": {}
  },
  {
   "cell_type": "markdown",
   "source": [
    "The probability of A given B, so called **conditional probability**, defined as:\n",
    "\n",
    "$$\n",
    "\\begin{equation}\n",
    "\\frac{P(A\\cap B)}{P(B)}=P(A|B)\n",
    "\\end{equation}\n",
    "$$\n",
    "\n",
    "It is best to be demonstrated by a joint probability table, which is essentially a discrete numeric form of 3D distribution. \n",
    "\n",
    "Here I want to introduce a module of draw text-style table, particular useful when you working on shells. Install in jupyter with ```conda install -c conda-forge texttable```."
   ],
   "metadata": {}
  },
  {
   "cell_type": "code",
   "execution_count": 37,
   "source": [
    "from texttable import Texttable"
   ],
   "outputs": [
    {
     "output_type": "error",
     "ename": "ModuleNotFoundError",
     "evalue": "No module named 'texttable'",
     "traceback": [
      "\u001b[0;31m---------------------------------------------------------------------------\u001b[0m",
      "\u001b[0;31mModuleNotFoundError\u001b[0m                       Traceback (most recent call last)",
      "\u001b[0;32m/var/folders/93/795zm8c93m16_92qkk86t0_r0000gn/T/ipykernel_54360/4197286704.py\u001b[0m in \u001b[0;36m<module>\u001b[0;34m\u001b[0m\n\u001b[0;32m----> 1\u001b[0;31m \u001b[0;32mfrom\u001b[0m \u001b[0mtexttable\u001b[0m \u001b[0;32mimport\u001b[0m \u001b[0mTexttable\u001b[0m\u001b[0;34m\u001b[0m\u001b[0;34m\u001b[0m\u001b[0m\n\u001b[0m",
      "\u001b[0;31mModuleNotFoundError\u001b[0m: No module named 'texttable'"
     ]
    }
   ],
   "metadata": {}
  },
  {
   "cell_type": "code",
   "execution_count": 36,
   "source": [
    "table = Texttable()\n",
    "table.set_cols_align([\"l\", \"c\", \"c\", 'c'])  \n",
    "table.set_cols_valign([\"m\", \"m\", \"m\", 'm'])\n",
    "table.add_rows([[\"\", \"Have Ht. Disease\", \" Not Have \", ' Total '],\n",
    "                [\"Male\", 0.45, 0.06, 0.51],\n",
    "                [\"Femal\", 0.36, 0.13, 0.49],\n",
    "                [\"Total\", 0.81, 0.19, 1]])\n",
    "print(table.draw())"
   ],
   "outputs": [
    {
     "output_type": "error",
     "ename": "NameError",
     "evalue": "name 'Texttable' is not defined",
     "traceback": [
      "\u001b[0;31m---------------------------------------------------------------------------\u001b[0m",
      "\u001b[0;31mNameError\u001b[0m                                 Traceback (most recent call last)",
      "\u001b[0;32m/var/folders/93/795zm8c93m16_92qkk86t0_r0000gn/T/ipykernel_54360/1491050028.py\u001b[0m in \u001b[0;36m<module>\u001b[0;34m\u001b[0m\n\u001b[0;32m----> 1\u001b[0;31m \u001b[0mtable\u001b[0m \u001b[0;34m=\u001b[0m \u001b[0mTexttable\u001b[0m\u001b[0;34m(\u001b[0m\u001b[0;34m)\u001b[0m\u001b[0;34m\u001b[0m\u001b[0;34m\u001b[0m\u001b[0m\n\u001b[0m\u001b[1;32m      2\u001b[0m \u001b[0mtable\u001b[0m\u001b[0;34m.\u001b[0m\u001b[0mset_cols_align\u001b[0m\u001b[0;34m(\u001b[0m\u001b[0;34m[\u001b[0m\u001b[0;34m\"l\"\u001b[0m\u001b[0;34m,\u001b[0m \u001b[0;34m\"c\"\u001b[0m\u001b[0;34m,\u001b[0m \u001b[0;34m\"c\"\u001b[0m\u001b[0;34m,\u001b[0m \u001b[0;34m'c'\u001b[0m\u001b[0;34m]\u001b[0m\u001b[0;34m)\u001b[0m\u001b[0;34m\u001b[0m\u001b[0;34m\u001b[0m\u001b[0m\n\u001b[1;32m      3\u001b[0m \u001b[0mtable\u001b[0m\u001b[0;34m.\u001b[0m\u001b[0mset_cols_valign\u001b[0m\u001b[0;34m(\u001b[0m\u001b[0;34m[\u001b[0m\u001b[0;34m\"m\"\u001b[0m\u001b[0;34m,\u001b[0m \u001b[0;34m\"m\"\u001b[0m\u001b[0;34m,\u001b[0m \u001b[0;34m\"m\"\u001b[0m\u001b[0;34m,\u001b[0m \u001b[0;34m'm'\u001b[0m\u001b[0;34m]\u001b[0m\u001b[0;34m)\u001b[0m\u001b[0;34m\u001b[0m\u001b[0;34m\u001b[0m\u001b[0m\n\u001b[1;32m      4\u001b[0m table.add_rows([[\"\", \"Have Ht. Disease\", \" Not Have \", ' Total '],\n\u001b[1;32m      5\u001b[0m                 \u001b[0;34m[\u001b[0m\u001b[0;34m\"Male\"\u001b[0m\u001b[0;34m,\u001b[0m \u001b[0;36m0.45\u001b[0m\u001b[0;34m,\u001b[0m \u001b[0;36m0.06\u001b[0m\u001b[0;34m,\u001b[0m \u001b[0;36m0.51\u001b[0m\u001b[0;34m]\u001b[0m\u001b[0;34m,\u001b[0m\u001b[0;34m\u001b[0m\u001b[0;34m\u001b[0m\u001b[0m\n",
      "\u001b[0;31mNameError\u001b[0m: name 'Texttable' is not defined"
     ]
    }
   ],
   "metadata": {}
  },
  {
   "cell_type": "markdown",
   "source": [
    "**Marginal probability** is the key concepts, which got its name because located on the margin of a table, it is the sum of all probabilities from the same column or row.\n",
    "\n",
    "The marginal probability of having heart disease is $81\\%$ and marginal probability of not having is $19\\%$. \n",
    "\n",
    "Here is the question: _what is the probability of not having heart disease given the person is a woman_? Because the condition is that _the person must be a woman_. So the first step is to narrow down the table."
   ],
   "metadata": {}
  },
  {
   "cell_type": "code",
   "execution_count": null,
   "source": [
    "table = Texttable()\n",
    "table.set_cols_align([\"l\", \"c\", \"c\", 'c'])  \n",
    "table.set_cols_valign([\"m\", \"m\", \"m\", 'm'])\n",
    "table.add_rows([[\"\", \"Have Ht. Disease\", \" Not Have \", ' Total '],\n",
    "                [\"Femal\", 0.36, 0.13, 0.49]])\n",
    "print(table.draw())"
   ],
   "outputs": [],
   "metadata": {}
  },
  {
   "cell_type": "markdown",
   "source": [
    "So the conditional probability of a woman not having heart disease is\n",
    "$$\n",
    "\\frac{P(A\\cap B)}{P(B)} = \\frac{.13}{.49}\n",
    "$$"
   ],
   "metadata": {}
  },
  {
   "cell_type": "code",
   "execution_count": 38,
   "source": [
    "P_female = 0.49  # the marginal prob of being a women, this is P(B)\n",
    "P_female_no_disease = 0.13\n",
    "P_con = P_female_no_disease / P_female\n",
    "print(\n",
    "    f'The probability of not having heart disease given the person is a woman is {P_con * 100:.2f}%'\n",
    ")"
   ],
   "outputs": [
    {
     "output_type": "stream",
     "name": "stdout",
     "text": [
      "The probability of not having heart disease given the person is a woman is 26.53%\n"
     ]
    }
   ],
   "metadata": {}
  },
  {
   "cell_type": "markdown",
   "source": [
    "From conditional probability it is straightforward to deduct **multiplication law**, simply rearrange the formula\n",
    "$$\n",
    "P(A|B)P(B)=P(A\\cap B)\\\\\n",
    "P(B|A)P(A)=P(B\\cap A)\n",
    "$$"
   ],
   "metadata": {}
  },
  {
   "cell_type": "markdown",
   "source": [
    "Two events $A$ and $B$ are independent if \n",
    "$$\n",
    "P(A|B)=P(A)\\\\\n",
    "P(B|A)=P(B)\n",
    "$$\n",
    "\n",
    "Otherwise, the events are dependent.\n",
    "\n",
    "Then the **independent multiplication law** indicates\n",
    "$$\n",
    "P(A)P(B)=P(A\\cap B)\\\\\n",
    "P(B)P(A)=P(B\\cap A)\n",
    "$$"
   ],
   "metadata": {}
  },
  {
   "cell_type": "markdown",
   "source": [
    "We will not dive deep into probability problems for now, there will be a full-round training session on <a href='https://github.com/MacroAnalyst/Probability_Theory'>**Probability Theory**</a>."
   ],
   "metadata": {}
  },
  {
   "cell_type": "markdown",
   "source": [
    "# Distributions That You Should Know"
   ],
   "metadata": {}
  },
  {
   "cell_type": "markdown",
   "source": [
    "These are most important probability distributions that you should know by heart. "
   ],
   "metadata": {}
  },
  {
   "cell_type": "markdown",
   "source": [
    "## Binomial Distribution"
   ],
   "metadata": {}
  },
  {
   "cell_type": "markdown",
   "source": [
    "The first one is binomial distribution, we will give a it more extensive coverage, other distributions have similar functions in Python.\n",
    "\n",
    "A binomial experiment has 4 features:\n",
    "* A sequence of $n$ identical trials, e.g. throwing darts\n",
    "* Only two outcomes are possible: _success_ or _failure_, e.g. hitting bullseye or not\n",
    "* The probability of success $p$ does not change from trial to trial\n",
    "* Trials are independent events, e.g. first throw doesn't affect the second throw"
   ],
   "metadata": {}
  },
  {
   "cell_type": "markdown",
   "source": [
    "The **probability mass function(PMF)** of binomial distribution is \n",
    "\n",
    "$$\n",
    "f(k,n,p)=_nC_k p^kq^{n-k}\n",
    "$$\n",
    "\n",
    "<p style=\"font-size:17px\">\n",
    "<p>\n",
    "\n",
    "<table style=\"text-align:center; width:50%; text-align:center;font-size: 110% \">\n",
    "  <tr>\n",
    "    <th>parameters</th>\n",
    "    <th>meaning</th>\n",
    "  </tr>\n",
    "  <tr>\n",
    "    <td>$n$</td>\n",
    "    <td>number of trials</td>\n",
    "  </tr>\n",
    "  <tr>\n",
    "    <td>$k$</td>\n",
    "    <td>number of specific outcome</td>\n",
    "  </tr>\n",
    "  <tr>\n",
    "    <td>$p$</td>\n",
    "    <td>probability of success</td>\n",
    "  </tr>\n",
    "  <tr>\n",
    "    <td>$q$</td>\n",
    "    <td>probability of failure</td>\n",
    "  </tr>\n",
    "</table>"
   ],
   "metadata": {}
  },
  {
   "cell_type": "markdown",
   "source": [
    "Here's a simple example.\n",
    "\n",
    "A personal banker might meet 50 people enquiring for loan monthly, empirically 30% of them has bad credit history. So calculate probability from 1 to 50 people has bad credit history, meaning calculate 1 person out of 50 has bad credit, 2 persons out of 50 have bad credit, so on so forth till 50 persons (all of them)."
   ],
   "metadata": {}
  },
  {
   "cell_type": "markdown",
   "source": [
    "Start from a single number could be more intuitive, what's probability that a personal banker to encounter exact $14$ persons of bad credit history in a month?"
   ],
   "metadata": {}
  },
  {
   "cell_type": "code",
   "execution_count": 40,
   "source": [
    "n = 50\n",
    "k = 14  # what is the prob that exact 14 ppl she met had bad credit history?\n",
    "b = special.comb(50, 14)\n",
    "p = .3\n",
    "f_binomial = b * p**k * (1 - p)**(n - k)\n",
    "print(\n",
    "    f'The prob of meeting {k} persons who has bad credit history is {(f_binomial * 100):.2f}%.'\n",
    ")"
   ],
   "outputs": [
    {
     "output_type": "stream",
     "name": "stdout",
     "text": [
      "The prob of meeting 14 persons who has bad credit history is 11.89%.\n"
     ]
    }
   ],
   "metadata": {}
  },
  {
   "cell_type": "markdown",
   "source": [
    "We can use ```scipy.stats.binom.pmf``` to get an array of PMF."
   ],
   "metadata": {}
  },
  {
   "cell_type": "code",
   "execution_count": 42,
   "source": [
    "n = 50\n",
    "p = .3\n",
    "bad_credit_person = np.arange(1, 51)\n",
    "prob = stats.binom.pmf(bad_credit_person, n, p)\n",
    "\n",
    "_, ax = plt.subplots(figsize=(6, 4), dpi=100)\n",
    "\n",
    "ax.plot(bad_credit_person, prob, lw=3, color='r', alpha=.5)\n",
    "ax.set(title=\n",
    "       'The probability that from 1 to 50 persons who have bad credit history',\n",
    "       xlabel='Number of Person Who Has Bad Credit History',\n",
    "       ylabel='Probability',\n",
    "       ylim=[0, .13])\n",
    "plt.show()"
   ],
   "outputs": [
    {
     "output_type": "display_data",
     "data": {
      "image/png": "[encoded data removed]",
      "text/plain": [
       "<Figure size 600x400 with 1 Axes>"
      ]
     },
     "metadata": {}
    }
   ],
   "metadata": {}
  },
  {
   "cell_type": "markdown",
   "source": [
    "We could interpret the plot with straightforward observation:\n",
    "<li>Most likely the personal banker would encounter $10$ to $20$ persons who have bad credit history.</li>\n",
    "<li>Encountering less than $5$ or more than $25$ person are less likely.</li>\n",
    "<li>The highest possibility is to encounter $50\\times .03 = 15$ persons with bad credit.</li>"
   ],
   "metadata": {}
  },
  {
   "cell_type": "markdown",
   "source": [
    "Next example we can formulate a question by using **cumulative probability distribution**, the SciPy function is ```scipy.stats.binom.cdf```. \n",
    "\n",
    "If a stock trader trades $n$ times a month, he has a $p%$ chance of winning the trade, find out the probability that he can win less than $k$ trades a month."
   ],
   "metadata": {}
  },
  {
   "cell_type": "code",
   "execution_count": 43,
   "source": [
    "n = 20\n",
    "p = .55\n",
    "k = 12\n",
    "k1, k2 = 14, 4\n",
    "\n",
    "win_less = stats.binom.cdf(k, n, p)\n",
    "win_more = 1 - stats.binom.cdf(k, n, p)\n",
    "win_betw = stats.binom.cdf(14, n, p) - stats.binom.cdf(4, n, p)\n",
    "\n",
    "print(\n",
    "    f\"If a trader's winning rate is {p * 100:.0f}%, the probability of winning less than {k} times is {win_less * 100:.1f}% if he trades {n} per month.\"\n",
    ")\n",
    "print(\n",
    "    f\"If a trader's winning rate is {p * 100:.0f}%, the probability of winning more than {k} times is {win_more * 100:.1f}% if he trades {n} per month.\"\n",
    ")\n",
    "print(\n",
    "    f\"If a trader's winning rate is {p * 100:.0f}%, the probability of winning between {k1} and {k2} times is {win_betw * 100:.1f}% if he trades {n} per month.\"\n",
    ")"
   ],
   "outputs": [
    {
     "output_type": "stream",
     "name": "stdout",
     "text": [
      "If a trader's winning rate is 55%, the probability of winning less than 12 times is 74.8% if he trades 20 per month.\n",
      "If a trader's winning rate is 55%, the probability of winning more than 12 times is 25.2% if he trades 20 per month.\n",
      "If a trader's winning rate is 55%, the probability of winning between 14 and 4 times is 94.3% if he trades 20 per month.\n"
     ]
    }
   ],
   "metadata": {}
  },
  {
   "cell_type": "markdown",
   "source": [
    "Or present in the text table."
   ],
   "metadata": {}
  },
  {
   "cell_type": "code",
   "execution_count": 44,
   "source": [
    "table = Texttable()\n",
    "table.set_cols_align([ \"c\", \"c\", 'c'])  \n",
    "table.set_cols_valign([ \"m\", \"m\", 'm'])\n",
    "table.add_rows([[\"Win Less\", \" Win More \", ' Win btw 4~14 '],\n",
    "                [ win_less, win_more, win_betw]])\n",
    "print(table.draw())"
   ],
   "outputs": [
    {
     "output_type": "error",
     "ename": "NameError",
     "evalue": "name 'Texttable' is not defined",
     "traceback": [
      "\u001b[0;31m---------------------------------------------------------------------------\u001b[0m",
      "\u001b[0;31mNameError\u001b[0m                                 Traceback (most recent call last)",
      "\u001b[0;32m/var/folders/93/795zm8c93m16_92qkk86t0_r0000gn/T/ipykernel_54360/816771216.py\u001b[0m in \u001b[0;36m<module>\u001b[0;34m\u001b[0m\n\u001b[0;32m----> 1\u001b[0;31m \u001b[0mtable\u001b[0m \u001b[0;34m=\u001b[0m \u001b[0mTexttable\u001b[0m\u001b[0;34m(\u001b[0m\u001b[0;34m)\u001b[0m\u001b[0;34m\u001b[0m\u001b[0;34m\u001b[0m\u001b[0m\n\u001b[0m\u001b[1;32m      2\u001b[0m \u001b[0mtable\u001b[0m\u001b[0;34m.\u001b[0m\u001b[0mset_cols_align\u001b[0m\u001b[0;34m(\u001b[0m\u001b[0;34m[\u001b[0m \u001b[0;34m\"c\"\u001b[0m\u001b[0;34m,\u001b[0m \u001b[0;34m\"c\"\u001b[0m\u001b[0;34m,\u001b[0m \u001b[0;34m'c'\u001b[0m\u001b[0;34m]\u001b[0m\u001b[0;34m)\u001b[0m\u001b[0;34m\u001b[0m\u001b[0;34m\u001b[0m\u001b[0m\n\u001b[1;32m      3\u001b[0m \u001b[0mtable\u001b[0m\u001b[0;34m.\u001b[0m\u001b[0mset_cols_valign\u001b[0m\u001b[0;34m(\u001b[0m\u001b[0;34m[\u001b[0m \u001b[0;34m\"m\"\u001b[0m\u001b[0;34m,\u001b[0m \u001b[0;34m\"m\"\u001b[0m\u001b[0;34m,\u001b[0m \u001b[0;34m'm'\u001b[0m\u001b[0;34m]\u001b[0m\u001b[0;34m)\u001b[0m\u001b[0;34m\u001b[0m\u001b[0;34m\u001b[0m\u001b[0m\n\u001b[1;32m      4\u001b[0m table.add_rows([[\"Win Less\", \" Win More \", ' Win btw 4~14 '],\n\u001b[1;32m      5\u001b[0m                 [ win_less, win_more, win_betw]])\n",
      "\u001b[0;31mNameError\u001b[0m: name 'Texttable' is not defined"
     ]
    }
   ],
   "metadata": {}
  },
  {
   "cell_type": "markdown",
   "source": [
    "What if the probability of wining changing from 0.1 to 0.8, what is the probability that he wins less than 6 trades, assuming every month he trades 20 times."
   ],
   "metadata": {}
  },
  {
   "cell_type": "code",
   "execution_count": 46,
   "source": [
    "win_rate = np.arange(.1, .81, .05)\n",
    "win_less = stats.binom.cdf(6, 20, win_rate)\n",
    "\n",
    "data_dict = {'win_rate':win_rate, 'win_less':win_less}\n",
    "df = pd.DataFrame(data_dict)\n",
    "df.head()"
   ],
   "outputs": [
    {
     "output_type": "execute_result",
     "data": {
      "text/html": [
       "<div>\n",
       "<style scoped>\n",
       "    .dataframe tbody tr th:only-of-type {\n",
       "        vertical-align: middle;\n",
       "    }\n",
       "\n",
       "    .dataframe tbody tr th {\n",
       "        vertical-align: top;\n",
       "    }\n",
       "\n",
       "    .dataframe thead th {\n",
       "        text-align: right;\n",
       "    }\n",
       "</style>\n",
       "<table border=\"1\" class=\"dataframe\">\n",
       "  <thead>\n",
       "    <tr style=\"text-align: right;\">\n",
       "      <th></th>\n",
       "      <th>win_rate</th>\n",
       "      <th>win_less</th>\n",
       "    </tr>\n",
       "  </thead>\n",
       "  <tbody>\n",
       "    <tr>\n",
       "      <th>0</th>\n",
       "      <td>0.10</td>\n",
       "      <td>0.997614</td>\n",
       "    </tr>\n",
       "    <tr>\n",
       "      <th>1</th>\n",
       "      <td>0.15</td>\n",
       "      <td>0.978065</td>\n",
       "    </tr>\n",
       "    <tr>\n",
       "      <th>2</th>\n",
       "      <td>0.20</td>\n",
       "      <td>0.913307</td>\n",
       "    </tr>\n",
       "    <tr>\n",
       "      <th>3</th>\n",
       "      <td>0.25</td>\n",
       "      <td>0.785782</td>\n",
       "    </tr>\n",
       "    <tr>\n",
       "      <th>4</th>\n",
       "      <td>0.30</td>\n",
       "      <td>0.608010</td>\n",
       "    </tr>\n",
       "    <tr>\n",
       "      <th>5</th>\n",
       "      <td>0.35</td>\n",
       "      <td>0.416625</td>\n",
       "    </tr>\n",
       "    <tr>\n",
       "      <th>6</th>\n",
       "      <td>0.40</td>\n",
       "      <td>0.250011</td>\n",
       "    </tr>\n",
       "    <tr>\n",
       "      <th>7</th>\n",
       "      <td>0.45</td>\n",
       "      <td>0.129934</td>\n",
       "    </tr>\n",
       "    <tr>\n",
       "      <th>8</th>\n",
       "      <td>0.50</td>\n",
       "      <td>0.057659</td>\n",
       "    </tr>\n",
       "    <tr>\n",
       "      <th>9</th>\n",
       "      <td>0.55</td>\n",
       "      <td>0.021414</td>\n",
       "    </tr>\n",
       "    <tr>\n",
       "      <th>10</th>\n",
       "      <td>0.60</td>\n",
       "      <td>0.006466</td>\n",
       "    </tr>\n",
       "    <tr>\n",
       "      <th>11</th>\n",
       "      <td>0.65</td>\n",
       "      <td>0.001521</td>\n",
       "    </tr>\n",
       "    <tr>\n",
       "      <th>12</th>\n",
       "      <td>0.70</td>\n",
       "      <td>0.000261</td>\n",
       "    </tr>\n",
       "    <tr>\n",
       "      <th>13</th>\n",
       "      <td>0.75</td>\n",
       "      <td>0.000030</td>\n",
       "    </tr>\n",
       "    <tr>\n",
       "      <th>14</th>\n",
       "      <td>0.80</td>\n",
       "      <td>0.000002</td>\n",
       "    </tr>\n",
       "  </tbody>\n",
       "</table>\n",
       "</div>"
      ],
      "text/plain": [
       "    win_rate  win_less\n",
       "0       0.10  0.997614\n",
       "1       0.15  0.978065\n",
       "2       0.20  0.913307\n",
       "3       0.25  0.785782\n",
       "4       0.30  0.608010\n",
       "5       0.35  0.416625\n",
       "6       0.40  0.250011\n",
       "7       0.45  0.129934\n",
       "8       0.50  0.057659\n",
       "9       0.55  0.021414\n",
       "10      0.60  0.006466\n",
       "11      0.65  0.001521\n",
       "12      0.70  0.000261\n",
       "13      0.75  0.000030\n",
       "14      0.80  0.000002"
      ]
     },
     "metadata": {},
     "execution_count": 46
    }
   ],
   "metadata": {}
  },
  {
   "cell_type": "markdown",
   "source": [
    "According to the table above, if the trader has at least $60\\%$ winning rate, merely $0.6\\%$ probability that he wins less then $6$ trades. Marginally higher winning rates are even important for traders in the short run."
   ],
   "metadata": {}
  },
  {
   "cell_type": "code",
   "execution_count": 47,
   "source": [
    "_, ax = plt.subplots(figsize=(6, 4), dpi=100)\n",
    "\n",
    "ax.scatter(win_rate, win_less)\n",
    "txt = 'This point means that if the winning rate is 40%,\\n then the probability of winning less\\n than 6 trades is 25%.'\n",
    "ax.annotate(txt,\n",
    "            xy=(df.iloc[6][0], df.iloc[6][1]),\n",
    "            xytext=(.35, .5),\n",
    "            weight='bold',\n",
    "            color='r',\n",
    "            size=14,\n",
    "            arrowprops=dict(arrowstyle='->', connectionstyle='arc3',\n",
    "                            color='b'))\n",
    "ax.set(xlabel='Winning Rate',\n",
    "       ylabel='Probabilit of winning Less than 6 trades')\n",
    "plt.show()"
   ],
   "outputs": [
    {
     "output_type": "display_data",
     "data": {
      "image/png": "[encoded data removed]",
      "text/plain": [
       "<Figure size 600x400 with 1 Axes>"
      ]
     },
     "metadata": {}
    }
   ],
   "metadata": {}
  },
  {
   "cell_type": "markdown",
   "source": [
    "### Binomial Random Variable Generator"
   ],
   "metadata": {}
  },
  {
   "cell_type": "markdown",
   "source": [
    "In Scipy library, every distribution has a random variable generator named ```.rvs```, we set parameters, the generator will return the randomly generated numbers."
   ],
   "metadata": {}
  },
  {
   "cell_type": "code",
   "execution_count": 48,
   "source": [
    "n = 100\n",
    "p = 0.3\n",
    "bino = stats.binom.rvs(n, p, size = 10000)"
   ],
   "outputs": [],
   "metadata": {}
  },
  {
   "cell_type": "markdown",
   "source": [
    "The red vertical line in the graph below is the mean, because binomial distribution is a symmetric distribution, thus the mean should theoretically have the highest draw as well."
   ],
   "metadata": {}
  },
  {
   "cell_type": "code",
   "execution_count": 49,
   "source": [
    "txt = 'This line is the $y =p \\cdot n$ \\n and where theoretical highest draw should be.'\n",
    "fig, ax = plt.subplots(figsize = (12, 8))\n",
    "h, bins, patches = ax.hist(bino, bins = 160)\n",
    "ax.axvline(p*n, color = 'r', ls = '--', lw = 3)\n",
    "ax.annotate(txt, xy = (p*n, h.max()*0.4), xytext = (p*n ,h.max()*0.7), weight = 'bold', color  =  'r', size = 14,\n",
    "             arrowprops = dict(arrowstyle = '->', connectionstyle = 'arc3', color = 'b'))\n",
    "ax.set_title('Generated Binomial R.V.s', size = 18)\n",
    "plt.show()"
   ],
   "outputs": [
    {
     "output_type": "display_data",
     "data": {
      "image/png": "[encoded data removed]",
      "text/plain": [
       "<Figure size 864x576 with 1 Axes>"
      ]
     },
     "metadata": {}
    }
   ],
   "metadata": {}
  },
  {
   "cell_type": "markdown",
   "source": [
    "But how to interpret the histogram? \n",
    "\n",
    "A concrete example: you are trying to shoot basketball into the basket, your chances of success is $30\\%$, what each day you can shoot $100$ rounds, but in the long run, you are mostly like to have $30$ successes each day, and it would be extremely unlikely that you would land a $50$-success."
   ],
   "metadata": {}
  },
  {
   "cell_type": "markdown",
   "source": [
    "### <font face=\"gotham\" color=\"purple\"> Moments of Binomial Distribution"
   ],
   "metadata": {}
  },
  {
   "cell_type": "markdown",
   "source": [
    "To return moments, use ```.stats``` functions with <code>moments = `msvk`</code>, it is short for _mean_, _skewness_, _variance_ and _kurtosis_."
   ],
   "metadata": {}
  },
  {
   "cell_type": "code",
   "execution_count": 50,
   "source": [
    "n = 100\n",
    "poiss_stats = stats.poisson.stats(\n",
    "    lambdaP, moments='mvsk')  # mean, variance, skewness, kurtosis\n",
    "bino_stats = stats.binom.stats(n, p, moments = 'mvsk')\n",
    "table.set_cols_align([\"c\", \"c\", 'c', 'c'])\n",
    "table.set_cols_valign([\"m\", \"m\", 'm', 'm'])\n",
    "table.add_rows(\n",
    "    [[\"mean\", \" variance \", ' skewness ', 'kurtosis '],\n",
    "     [poiss_stats[0], poiss_stats[1], poiss_stats[2], poiss_stats[3]]])\n",
    "                [ bino_stats[0], bino_stats[1], bino_stats[2], bino_stats[3]]])\n",
    "print(table.draw())"
   ],
   "outputs": [
    {
     "output_type": "error",
     "ename": "NameError",
     "evalue": "name 'sp' is not defined",
     "traceback": [
      "\u001b[0;31m---------------------------------------------------------------------------\u001b[0m",
      "\u001b[0;31mNameError\u001b[0m                                 Traceback (most recent call last)",
      "\u001b[0;32m/var/folders/93/795zm8c93m16_92qkk86t0_r0000gn/T/ipykernel_54360/2595282907.py\u001b[0m in \u001b[0;36m<module>\u001b[0;34m\u001b[0m\n\u001b[1;32m      1\u001b[0m \u001b[0mn\u001b[0m \u001b[0;34m=\u001b[0m \u001b[0;36m100\u001b[0m\u001b[0;34m\u001b[0m\u001b[0;34m\u001b[0m\u001b[0m\n\u001b[1;32m      2\u001b[0m \u001b[0mp\u001b[0m \u001b[0;34m=\u001b[0m \u001b[0;36m0.3\u001b[0m\u001b[0;34m\u001b[0m\u001b[0;34m\u001b[0m\u001b[0m\n\u001b[0;32m----> 3\u001b[0;31m \u001b[0mbino_stats\u001b[0m \u001b[0;34m=\u001b[0m \u001b[0msp\u001b[0m\u001b[0;34m.\u001b[0m\u001b[0mstats\u001b[0m\u001b[0;34m.\u001b[0m\u001b[0mbinom\u001b[0m\u001b[0;34m.\u001b[0m\u001b[0mstats\u001b[0m\u001b[0;34m(\u001b[0m\u001b[0mn\u001b[0m\u001b[0;34m,\u001b[0m \u001b[0mp\u001b[0m\u001b[0;34m,\u001b[0m \u001b[0mmoments\u001b[0m \u001b[0;34m=\u001b[0m \u001b[0;34m'mvsk'\u001b[0m\u001b[0;34m)\u001b[0m\u001b[0;34m\u001b[0m\u001b[0;34m\u001b[0m\u001b[0m\n\u001b[0m\u001b[1;32m      4\u001b[0m \u001b[0mtable\u001b[0m \u001b[0;34m=\u001b[0m \u001b[0mTexttable\u001b[0m\u001b[0;34m(\u001b[0m\u001b[0;34m)\u001b[0m\u001b[0;34m\u001b[0m\u001b[0;34m\u001b[0m\u001b[0m\n\u001b[1;32m      5\u001b[0m \u001b[0mtable\u001b[0m\u001b[0;34m.\u001b[0m\u001b[0mset_cols_align\u001b[0m\u001b[0;34m(\u001b[0m\u001b[0;34m[\u001b[0m \u001b[0;34m\"c\"\u001b[0m\u001b[0;34m,\u001b[0m \u001b[0;34m\"c\"\u001b[0m\u001b[0;34m,\u001b[0m \u001b[0;34m'c'\u001b[0m\u001b[0;34m,\u001b[0m\u001b[0;34m'c'\u001b[0m\u001b[0;34m]\u001b[0m\u001b[0;34m)\u001b[0m\u001b[0;34m\u001b[0m\u001b[0;34m\u001b[0m\u001b[0m\n",
      "\u001b[0;31mNameError\u001b[0m: name 'sp' is not defined"
     ]
    }
   ],
   "metadata": {}
  },
  {
   "cell_type": "markdown",
   "source": [
    "## Poisson Distribution"
   ],
   "metadata": {}
  },
  {
   "cell_type": "markdown",
   "source": [
    "When $n\\rightarrow\\infty$ and $p\\rightarrow0$，a binomial distribution approaches a **Poisson distribution** asymptotically, i.e. when $n$ is large and $p$ is small, we can use Poisson to approximate Binomial.\n",
    "\n",
    "Again with trader's example, if a trader has $1/1000$ probability to encounter a 'wiped-out' in each trade (assume each trade is independent, actually not), and trades $20$ times per month, what is the probability that the trader will encounter twice 'wiped-out' within 5 years?\n",
    "\n",
    "This problem can be solved by Binomial, the formulation as below\n",
    "\n",
    "$$\n",
    "\\text{trades} = 20\\times 12\\times 5=1200\\\\\n",
    "P(x=2) = \\binom{1200}{2}\\Big(\\frac{1}{1000}\\Big)^2\\Big(\\frac{999}{1000}\\Big)^{1198}\n",
    "$$"
   ],
   "metadata": {}
  },
  {
   "cell_type": "code",
   "execution_count": 51,
   "source": [
    "special.comb(1200, 2) * 1 / 1000**2 * (999 / 1000)**1198\n"
   ],
   "outputs": [
    {
     "output_type": "execute_result",
     "data": {
      "text/plain": [
       "0.2169828095260339"
      ]
     },
     "metadata": {},
     "execution_count": 51
    }
   ],
   "metadata": {}
  },
  {
   "cell_type": "markdown",
   "source": [
    "The result tells that if a trader keep a frequency of $20$ trades per month, there $21\\%$ possibility that he/she gets wiped out twice in next $5$ years."
   ],
   "metadata": {}
  },
  {
   "cell_type": "markdown",
   "source": [
    "As we mentioned, Poisson is the limit version of Binomial, it is a suitable case to use, calculate $\\lambda$\n",
    "\n",
    "$$\n",
    "\\begin{equation}\n",
    "\\lambda = np = 1200 \\times \\frac{1}{1000} = 1.2\n",
    "\\end{equation}\n",
    "$$\n",
    "\n",
    "it means every 5 years, there is in average 1.2 times of chance to get wiped out.\n",
    "\n",
    "$$\n",
    "\\begin{equation}\n",
    "P(x=2)=\\frac{\\lambda^ke^{-\\lambda}}{k!}=\\frac{1.2^2e^{-1.2}}{2!}\n",
    "\\end{equation}\n",
    "$$\n",
    "\n",
    "Formulate in Python"
   ],
   "metadata": {}
  },
  {
   "cell_type": "code",
   "execution_count": 52,
   "source": [
    "k = 2\n",
    "n = 20 * 12 * 5  # 20 times per month, and 5 years span\n",
    "p = 1 / 1000\n",
    "lambdaP = p * n  # lambda in Poisson\n",
    "p = stats.poisson.pmf(k, lambdaP)\n",
    "print(\n",
    "    f'The probability of having {k} wiped-out shock(s) in a span of 5 years is {p * 100:.2f}%.'\n",
    ")"
   ],
   "outputs": [
    {
     "output_type": "stream",
     "name": "stdout",
     "text": [
      "The probability of having 2 wiped-out shock(s) in a span of 5 years is 21.69%.\n"
     ]
    }
   ],
   "metadata": {}
  },
  {
   "cell_type": "markdown",
   "source": [
    "You probably have notices that Binomial and Poisson provide the same answer.\n",
    "\n",
    "Similarly what's the probability of having more than $k$ times wiped-out?"
   ],
   "metadata": {}
  },
  {
   "cell_type": "code",
   "execution_count": 54,
   "source": [
    "k = 2\n",
    "prob = 1 - stats.poisson.cdf(k, lambdaP)\n",
    "print(\n",
    "    f'The probability of having more than {k:1.0f} BS shock in 5 years is {prob*100:3.3f}.'\n",
    ")"
   ],
   "outputs": [
    {
     "output_type": "stream",
     "name": "stdout",
     "text": [
      "The probability of having more than 2 BS shock in 5 years is 12.051.\n"
     ]
    }
   ],
   "metadata": {}
  },
  {
   "cell_type": "markdown",
   "source": [
    "### Poisson Random Variable Generator"
   ],
   "metadata": {}
  },
  {
   "cell_type": "markdown",
   "source": [
    "Use the parameters $\\lambda = 1.2$, we generate a frequency distribution with ```sp.stats.poisson.rvs``` function."
   ],
   "metadata": {}
  },
  {
   "cell_type": "code",
   "execution_count": 57,
   "source": [
    "lambdaP = 1.2\n",
    "poisson = stats.poisson.rvs(lambdaP, size = 1000)\n",
    "\n",
    "_, ax = plt.subplots(figsize=(6, 4), dpi=100)\n",
    "\n",
    "h, bins, patches = ax.hist(poisson, bins = 10)\n",
    "ax.set(title='Generated Poisson R.V. Distribution')\n",
    "plt.show()"
   ],
   "outputs": [
    {
     "output_type": "display_data",
     "data": {
      "image/png": "[encoded data removed]",
      "text/plain": [
       "<Figure size 600x400 with 1 Axes>"
      ]
     },
     "metadata": {}
    }
   ],
   "metadata": {}
  },
  {
   "cell_type": "markdown",
   "source": [
    "### Moments of Poisson Distribution"
   ],
   "metadata": {}
  },
  {
   "cell_type": "code",
   "execution_count": null,
   "source": [
    "lambdaP = 1.2\n",
    "poiss_stats = stats.poisson.stats(lambdaP, moments = 'mvsk') # mean, variance, skewness, kurtosis\n",
    "table.set_cols_align([\"c\", \"c\", 'c', 'c', 'c', 'c'])\n",
    "table.set_cols_valign([\"m\", \"m\", 'm', 'm', 'm', 'm'])\n",
    "table.add_rows([['p', 'k', \"mean\", \" variance \", ' skewness ', ' kurtosis '],\n",
    "                [p, k, mean, var, skew, kurt]])\n",
    "                [ poiss_stats[0], poiss_stats[1], poiss_stats[2], poiss_stats[3]]])\n",
    "print(table.draw())"
   ],
   "outputs": [],
   "metadata": {}
  },
  {
   "cell_type": "markdown",
   "source": [
    "## Geometric Distribution"
   ],
   "metadata": {}
  },
  {
   "cell_type": "markdown",
   "source": [
    "The PMF of **Geometric Distribution** is \n",
    "$$\n",
    "f(k)=p(1-p)^k\n",
    "$$\n",
    "\n",
    "where  $k \\in  \\mathbb{Z}^+$ is a number of failures before first success, and $p$ is the probability of success.\n",
    "\n",
    "Geometric Distribution is to model the solutions to questions: '_How many times you have to fail in order to embrace the initial success?_'\n",
    "\n",
    "If you are shooting basketball to the basket, your success rate is $30\\%$, what's the probability of first success after $k$ times of trials?"
   ],
   "metadata": {}
  },
  {
   "cell_type": "code",
   "execution_count": 58,
   "source": [
    "k = 5\n",
    "p = .3\n",
    "\n",
    "geo_dist = (1 - p)**k * p\n",
    "print(\n",
    "    f'The probability of observing exact {k} times of failures trials before first success is {geo_dist * 100:.2f}%.'\n",
    ")"
   ],
   "outputs": [
    {
     "output_type": "stream",
     "name": "stdout",
     "text": [
      "The probability of observing exact 5 times of failures trials before first success is 5.04%.\n"
     ]
    }
   ],
   "metadata": {}
  },
  {
   "cell_type": "markdown",
   "source": [
    "```sp.stats.geom.pmf``` function will do the same trick."
   ],
   "metadata": {}
  },
  {
   "cell_type": "code",
   "execution_count": 60,
   "source": [
    "stats.geom.pmf(k, p)"
   ],
   "outputs": [
    {
     "output_type": "execute_result",
     "data": {
      "text/plain": [
       "0.07202999999999998"
      ]
     },
     "metadata": {},
     "execution_count": 60
    }
   ],
   "metadata": {}
  },
  {
   "cell_type": "markdown",
   "source": [
    "However, you have noticed the same parameters didn't produce the same result. That's because Scipy has a slightly different definition of parameter, $k$ in Scipy means the total number of trials, therefore $k+1$ would work the same."
   ],
   "metadata": {}
  },
  {
   "cell_type": "code",
   "execution_count": 59,
   "source": [
    "stats.geom.pmf(k+1, p)"
   ],
   "outputs": [
    {
     "output_type": "execute_result",
     "data": {
      "text/plain": [
       "0.05042099999999998"
      ]
     },
     "metadata": {},
     "execution_count": 59
    }
   ],
   "metadata": {}
  },
  {
   "cell_type": "markdown",
   "source": [
    "Again, CDF could answer the a question: _What's the probability of observing $k$ or less than $k$ times of failure before the first success?_"
   ],
   "metadata": {}
  },
  {
   "cell_type": "code",
   "execution_count": 62,
   "source": [
    "geom_cdf = stats.geom.cdf(k + 1, p)\n",
    "print(\n",
    "    f'The probability of observing {k:1.0f} or fewer than {k:1.0f} times of failure before a first success is {geom_cdf*100:3.3f}.'\n",
    ")"
   ],
   "outputs": [
    {
     "output_type": "stream",
     "name": "stdout",
     "text": [
      "The probability of observing 5 or fewer than 5 times of failure before a first success is 88.235.\n"
     ]
    }
   ],
   "metadata": {}
  },
  {
   "cell_type": "markdown",
   "source": [
    "### Geometric Distribution Moments and Generator"
   ],
   "metadata": {}
  },
  {
   "cell_type": "code",
   "execution_count": null,
   "source": [
    "mean, var, skew, kurt = stats.geom.stats(p, moments='mvsk')\n",
    "norm_rv = sp.stats.norm.rvs(mu, sigma, size=5000)\n",
    "fig, ax = plt.subplots(figsize=(12, 7))\n",
    "h, bins, patches = ax.hist(norm_rv, density=True, bins=50)\n",
    "ax.set_title('Normal Frequency Distribution', size=16)\n",
    "                [ p, k, mean, var, skew, kurt]])\n",
    "print(table.draw())"
   ],
   "outputs": [],
   "metadata": {}
  },
  {
   "cell_type": "code",
   "execution_count": 64,
   "source": [
    "geometric = stats.geom.rvs(p, size = 10000)\n",
    "norm_rv = sp.stats.norm.rvs(mu, sigma, size=5000)\n",
    "fig, ax = plt.subplots(figsize=(12, 7))\n",
    "h, bins, patches = ax.hist(norm_rv, density=True, bins=50)\n",
    "ax.set_title('Normal Frequency Distribution', size=16)\n",
    "plt.show()"
   ],
   "outputs": [
    {
     "output_type": "display_data",
     "data": {
      "image/png": "[encoded data removed]",
      "text/plain": [
       "<Figure size 600x400 with 1 Axes>"
      ]
     },
     "metadata": {}
    }
   ],
   "metadata": {}
  },
  {
   "cell_type": "markdown",
   "source": [
    "## Hypergeometric Distribution"
   ],
   "metadata": {}
  },
  {
   "cell_type": "markdown",
   "source": [
    "The main difference between hypergeometric and binomial is that the former's sampling is not independent of each other, i.e. the  sampling is **without replacement**. \n",
    "\n",
    "The PMF of hypergeometric is \n",
    "\n",
    "$$\n",
    "f(x) =\\frac{{K\\choose k} {N-K \\choose n-k}}{{N\\choose n}} \n",
    "$$\n",
    "\n",
    "Read the PMF with this example: $100$ people live in a building, $20$ of them are stashing drugs, $80$ are clean, but we don't have information who is clean or not. In one field operation, police took away $5$ persons form the building, what is the probability of having exact $2$ persons .are drug stasher?\n",
    "\n",
    "Solution:\n",
    "$$\n",
    "\\frac{{20\\choose2}{80\\choose3}}{{100\\choose5}}\n",
    "$$\n",
    "To solve it:"
   ],
   "metadata": {}
  },
  {
   "cell_type": "code",
   "execution_count": 69,
   "source": [
    "k = 2\n",
    "norm_rv = sp.stats.norm.rvs(mu, sigma, size=5000)\n",
    "fig, ax = plt.subplots(figsize=(12, 7))\n",
    "h, bins, patches = ax.hist(norm_rv, density=True, bins=50)\n",
    "ax.set_title('Normal Frequency Distribution', size=16)\n",
    "    N, n)\n",
    "print(\n",
    "    f'The probability of getting {k} drug stashers by taking {n} persons away is {hyper_geo*100:.2f}%.'\n",
    ")"
   ],
   "outputs": [
    {
     "output_type": "stream",
     "name": "stdout",
     "text": [
      "The probability of getting 2 drug stashers by taking 5 persons away is 20.73%.\n"
     ]
    }
   ],
   "metadata": {}
  },
  {
   "cell_type": "markdown",
   "source": [
    "Or use SciPy function"
   ],
   "metadata": {}
  },
  {
   "cell_type": "code",
   "execution_count": 70,
   "source": [
    "# pmf(x, M, N, n, loc=0)\n",
    "hgeo = stats.hypergeom.pmf(k, N, K, n, loc = 0)\n",
    "hgeo"
   ],
   "outputs": [
    {
     "output_type": "execute_result",
     "data": {
      "text/plain": [
       "0.20734379349990603"
      ]
     },
     "metadata": {},
     "execution_count": 70
    }
   ],
   "metadata": {}
  },
  {
   "cell_type": "markdown",
   "source": [
    "A histogram would provide some intuitions of geometric distribution."
   ],
   "metadata": {}
  },
  {
   "cell_type": "code",
   "execution_count": 75,
   "source": [
    "hgeo_rv = stats.hypergeom.rvs(100, 20, 5, size = 10000)\n",
    "norm_rv = sp.stats.norm.rvs(mu, sigma, size=5000)\n",
    "fig, ax = plt.subplots(figsize=(12, 7))\n",
    "h, bins, patches = ax.hist(norm_rv, density=True, bins=50)\n",
    "ax.set_title('Normal Frequency Distribution', size=16)\n",
    "ax.set(title='Generated Hypergeometric R.V. Distribution')\n",
    "s = '''    It can be interpreted as: if 100 persons in the building, \n",
    "    20 are drug stasher, take 5 out of 100.\n",
    "    \n",
    "    The probability of getting from 1 to 5 drug stashers, \n",
    "    is shown in the chart.\n",
    "    \n",
    "    As we can see it is nearly impossible \n",
    "    to get 4 or 5 drugs stasher. \n",
    "    But getting one is the most possible outcome.'''\n",
    "\n",
    "ax.text(5, .3, s, fontsize=14, color ='red')\n",
    "plt.show()"
   ],
   "outputs": [
    {
     "output_type": "display_data",
     "data": {
      "image/png": "[encoded data removed]",
      "text/plain": [
       "<Figure size 600x400 with 1 Axes>"
      ]
     },
     "metadata": {}
    }
   ],
   "metadata": {}
  },
  {
   "cell_type": "code",
   "execution_count": null,
   "source": [
    "mean, var, skew, kurt = sp.stats.hypergeom.stats(N, K, n, moments='mvsk')\n",
    "norm_rv = sp.stats.norm.rvs(mu, sigma, size=5000)\n",
    "fig, ax = plt.subplots(figsize=(12, 7))\n",
    "h, bins, patches = ax.hist(norm_rv, density=True, bins=50)\n",
    "ax.set_title('Normal Frequency Distribution', size=16)\n",
    "                [ N, k, mean, var, skew, kurt]])\n",
    "print(table.draw())"
   ],
   "outputs": [],
   "metadata": {}
  },
  {
   "cell_type": "markdown",
   "source": [
    "## Discrete Uniform Distribution"
   ],
   "metadata": {}
  },
  {
   "cell_type": "markdown",
   "source": [
    "Rolling a die is the simplest **discrete uniform distribution** generator from $1$ to $6$."
   ],
   "metadata": {}
  },
  {
   "cell_type": "code",
   "execution_count": null,
   "source": [
    "unif_d = sp.stats.randint.rvs(low = 0, high = 6, size = 1000)\n",
    "norm_rv = sp.stats.norm.rvs(mu, sigma, size=5000)\n",
    "fig, ax = plt.subplots(figsize=(12, 7))\n",
    "h, bins, patches = ax.hist(norm_rv, density=True, bins=50)\n",
    "ax.set_title('Normal Frequency Distribution', size=16)\n"
   ],
   "outputs": [],
   "metadata": {}
  },
  {
   "cell_type": "markdown",
   "source": [
    "### Discrete Probability Mass Function\n"
   ],
   "metadata": {}
  },
  {
   "cell_type": "code",
   "execution_count": 78,
   "source": [
    "x = np.arange(0, 8)\n",
    "l, h = 1, 7\n",
    "unif_pmf = stats.randint.pmf(x, low=l, high=h)\n",
    "\n",
    "_, ax = plt.subplots(figsize=(6, 4), dpi=100)\n",
    "\n",
    "ax.scatter(x,\n",
    "           unif_pmf,\n",
    "           s=100,\n",
    "           color='green',\n",
    "           label=f'Low = {l}, High = {h - 1}')\n",
    "ax.plot(x, unif_pmf, lw=3, color='k')\n",
    "ax.legend(fontsize=18, loc='center')\n",
    "plt.show()"
   ],
   "outputs": [
    {
     "output_type": "display_data",
     "data": {
      "image/png": "[encoded data removed]",
      "text/plain": [
       "<Figure size 600x400 with 1 Axes>"
      ]
     },
     "metadata": {}
    }
   ],
   "metadata": {}
  },
  {
   "cell_type": "markdown",
   "source": [
    "## Continuous Uniform Distribution "
   ],
   "metadata": {}
  },
  {
   "cell_type": "markdown",
   "source": [
    "The PDF of *Continuous uniform distribution** is \n",
    "\n",
    "$$\n",
    "\\begin{equation}\n",
    "f(x)=\\frac{1}{b-a}\n",
    "\\end{equation}\n",
    "$$\n",
    "\n",
    "And its r.v. generator is one of the most commonly used function in NumPy."
   ],
   "metadata": {}
  },
  {
   "cell_type": "code",
   "execution_count": 76,
   "source": [
    "fig, ax = plt.subplots(figsize=(12, 8))\n",
    "\n",
    "_, ax = plt.subplots(figsize=(6, 4), dpi=100)\n",
    "\n",
    "    ax.plot(x,\n",
    "            chi_pdf,\n",
    "            lw=3,\n",
    "            label='$\\chi^2$ distribution with d.f. = %.0d' % i)\n",
    "    ax.legend(fontsize=12)\n",
    "plt.show()"
   ],
   "outputs": [
    {
     "output_type": "display_data",
     "data": {
      "image/png": "[encoded data removed]",
      "text/plain": [
       "<Figure size 600x400 with 1 Axes>"
      ]
     },
     "metadata": {}
    }
   ],
   "metadata": {}
  },
  {
   "cell_type": "markdown",
   "source": [
    "### CDF and PDF of Continuous Uniform Distribution "
   ],
   "metadata": {}
  },
  {
   "cell_type": "markdown",
   "source": [
    "The CDF and PDF of uniform distribution are ```sp.stats.uniform.cdf``` and ```sp.stats.uniform.pdf``` accordingly."
   ],
   "metadata": {}
  },
  {
   "cell_type": "code",
   "execution_count": 83,
   "source": [
    "fig, ax = plt.subplots(figsize=(12, 8))\n",
    "# cdf(x, loc=0, scale=1)\n",
    "x = np.linspace(-.2, 1.2, 100)\n",
    "unif_pdf = stats.uniform.pdf(x)\n",
    "    ax.plot(x,\n",
    "            chi_pdf,\n",
    "            lw=3,\n",
    "            label='$\\chi^2$ distribution with d.f. = %.0d' % i)\n",
    "    ax.legend(fontsize=12)\n",
    "_, axes = plt.subplots(1, 2, figsize=(10, 4), dpi=100, constrained_layout=True)\n",
    "\n",
    "axes[0].plot(x, unif_pdf, lw=4, label='PDF of Continous Uniform Distribution')\n",
    "axes[0].set_xlim([-.1, 1.1])\n",
    "axes[0].set_ylim([0, 2])\n",
    "axes[0].legend()\n",
    "\n",
    "axes[1].plot(x, unif_cdf, lw=4, label='CDF of Continous Uniform Distribution')\n",
    "axes[1].set_xlim([-.2, 1.2])\n",
    "axes[1].set_ylim([0, 2])\n",
    "axes[1].legend()\n",
    "plt.show()"
   ],
   "outputs": [
    {
     "output_type": "display_data",
     "data": {
      "image/png": "[encoded data removed]",
      "text/plain": [
       "<Figure size 1000x400 with 2 Axes>"
      ]
     },
     "metadata": {}
    }
   ],
   "metadata": {}
  },
  {
   "cell_type": "code",
   "execution_count": null,
   "source": [
    "mean, var, skew, kurt = sp.stats.uniform.stats(moments='mvsk')\n",
    "table = Texttable()\n",
    "table.set_cols_align([ \"c\", \"c\", 'c','c'])  \n",
    "table.set_cols_valign([ \"m\", \"m\", 'm','m'])\n",
    "table.add_rows([[\"mean\", \" variance \", ' skewness ', ' kurtosis '],\n",
    "                [ mean, var, skew, kurt]])\n",
    "print(table.draw())"
   ],
   "outputs": [],
   "metadata": {}
  },
  {
   "cell_type": "markdown",
   "source": [
    "## Normal Distribution"
   ],
   "metadata": {}
  },
  {
   "cell_type": "markdown",
   "source": [
    "The **normal distribution** is the king of all distributions, there are extensive discussions in my <a href=\"https://nbviewer.jupyter.org/github/WeijieChen-MacroAnalyst/Linear_Algebra_With_Python/blob/master/Chapter%2019%20-%20Multivariate%20Normal%20Distribution.ipynb\">Linear Algbra Notes</a>. The PDF of Normal distribution is\n",
    "$$\n",
    "f(x)=\\frac{1}{\\sigma \\sqrt{2 \\pi}} e^{-\\frac{1}{2}\\left(\\frac{x-\\mu}{\\sigma}\\right)^{2}}\n",
    "$$\n",
    "Below are the plots of CDF and PDF."
   ],
   "metadata": {}
  },
  {
   "cell_type": "code",
   "execution_count": 87,
   "source": [
    "mu = 2\n",
    "sigma = 1\n",
    "x = np.arange(-2, 6, 0.1)\n",
    "norm_pdf = stats.norm.pdf(x, mu, sigma)\n",
    "norm_cdf = stats.norm.cdf(x, mu, sigma)\n",
    "\n",
    "_, axes = plt.subplots(1, 2, figsize=(10, 4), dpi=100, constrained_layout=True)\n",
    "\n",
    "axes[0].plot(x, norm_pdf, lw=4, label='PDF of Normal Distribution', ls='--')\n",
    "axes[0].legend(loc='upper left')\n",
    "\n",
    "axes[1].plot(x, norm_cdf, lw=4, label='CDF of Normal Distribution')\n",
    "axes[1].legend(loc='upper left')\n",
    "plt.show()"
   ],
   "outputs": [
    {
     "output_type": "display_data",
     "data": {
      "image/png": "[encoded data removed]",
      "text/plain": [
       "<Figure size 1000x400 with 2 Axes>"
      ]
     },
     "metadata": {}
    }
   ],
   "metadata": {}
  },
  {
   "cell_type": "markdown",
   "source": [
    "### Inverse Normal CDF"
   ],
   "metadata": {}
  },
  {
   "cell_type": "markdown",
   "source": [
    "Here is a useful plot that you might have known by heart. The light blue area cover $95\\%$ of area under the bell curve, darker blue area on either side covers $2.5\\%$ respectively. If we want to search the point where $2.5\\%$ area is on its left, we simply need a inverse function of CDF, in SciPy ```.ppf``` (point percentage function) can provide us the location of any percentage that we specify."
   ],
   "metadata": {}
  },
  {
   "cell_type": "code",
   "execution_count": 88,
   "source": [
    "norm_95_r = stats.norm.ppf(\n",
    "    .975)  # ppf mean point percentage function, actually inverse CDF\n",
    "norm_95_l = stats.norm.ppf(.025)\n",
    "\n",
    "x = np.linspace(-5, 5, 200)\n",
    "y = stats.norm.pdf(x)\n",
    "\n",
    "xl = np.linspace(-5, norm_95_l, 100)\n",
    "yl = stats.norm.pdf(xl)\n",
    "xr = np.linspace(norm_95_r, 5, 100)\n",
    "yr = stats.norm.pdf(xr)\n",
    "\n",
    "_, ax = plt.subplots(figsize=(6, 4), dpi=100)\n",
    "\n",
    "ax.plot(x,\n",
    "        y,\n",
    "        lw=4,\n",
    "        label='PDF of Normal Distribution',\n",
    "        ls='-',\n",
    "        color='#CC4845')\n",
    "ax.set_ylim([0, .45])\n",
    "\n",
    "ax.fill_between(x, y, 0, alpha=0.6, color='#2E86C3')\n",
    "ax.fill_between(xl, yl, 0, alpha=0.9, color='#2E86C3')\n",
    "ax.fill_between(xr, yr, 0, alpha=0.9, color='#2E86C3')\n",
    "\n",
    "ax.text(-.2, 0.15, '95%', fontsize=20)\n",
    "ax.text(-2.3, 0.015, '2.5%', fontsize=12, color='white')\n",
    "ax.text(2.01, 0.015, '2.5%', fontsize=12, color='white')\n",
    "\n",
    "ax.annotate('±%.4f' % norm_95_r,\n",
    "            xy=(norm_95_r, 0),\n",
    "            xytext=(-.4, .05),\n",
    "            weight='bold',\n",
    "            color='#CC4845',\n",
    "            arrowprops=dict(arrowstyle='->',\n",
    "                            connectionstyle='arc3',\n",
    "                            color='#757516'),\n",
    "            fontsize=16)\n",
    "ax.annotate('±%.4f' % norm_95_r,\n",
    "            xy=(norm_95_l, 0),\n",
    "            xytext=(-.4, .05),\n",
    "            weight='bold',\n",
    "            color='#CC4845',\n",
    "            arrowprops=dict(arrowstyle='->',\n",
    "                            connectionstyle='arc3',\n",
    "                            color='#757516'),\n",
    "            fontsize=16)\n",
    "\n",
    "ax.set(title='Normal Distribution And 2.5% Shaded Area')\n",
    "plt.show()"
   ],
   "outputs": [
    {
     "output_type": "display_data",
     "data": {
      "image/png": "[encoded data removed]",
      "text/plain": [
       "<Figure size 864x504 with 1 Axes>"
      ]
     },
     "metadata": {}
    }
   ],
   "metadata": {}
  },
  {
   "cell_type": "markdown",
   "source": [
    "### Normal Random Variable Generator"
   ],
   "metadata": {}
  },
  {
   "cell_type": "code",
   "execution_count": null,
   "source": [
    "# rvs(loc=0, scale=1, size=1, random_state=None)\n",
    "norm_rv = sp.stats.norm.rvs(mu, sigma, size=5000)\n",
    "\n",
    "_, ax = plt.subplots(figsize=(6, 4), dpi=100)\n",
    "\n",
    "h, bins, patches = ax.hist(norm_rv, density=True, bins=50)\n",
    "ax.set(title='Normal Frequency Distribution')\n",
    "plt.show()"
   ],
   "outputs": [],
   "metadata": {}
  },
  {
   "cell_type": "code",
   "execution_count": null,
   "source": [
    "mean, var, skew, kurt = sp.stats.norm.stats(mu, sigma, moments='mvsk')\n",
    "table = Texttable()\n",
    "table.set_cols_align([ \"c\", \"c\", 'c','c'])  \n",
    "table.set_cols_valign([ \"m\", \"m\", 'm','m'])\n",
    "table.add_rows([[\"mean\", \" variance \", ' skewness ', ' kurtosis '],\n",
    "                [ mean, var, skew, kurt]])\n",
    "print(table.draw())"
   ],
   "outputs": [],
   "metadata": {}
  },
  {
   "cell_type": "markdown",
   "source": [
    "## Bivariate Normal Distribution"
   ],
   "metadata": {}
  },
  {
   "cell_type": "markdown",
   "source": [
    "The most prevalent _multivariate normal distribution_ is **bivariate normal distribution**\n",
    "\n",
    "$$\n",
    "\\begin{equation}\n",
    "f_\\mathbb{X}(x_1,...,x_2)=\\frac{1}{\\sqrt{(2\\pi)^k|\\Sigma|}}\\exp{\\Big(-\\frac{(x-\\mu)^T\\Sigma^{-1}(x-\\mu)}{2}\\Big)}\n",
    "\\end{equation}\n",
    "$$"
   ],
   "metadata": {}
  },
  {
   "cell_type": "markdown",
   "source": [
    "There are two ways of formulating a multivariate normal distribution in Python, use any one you see fit."
   ],
   "metadata": {}
  },
  {
   "cell_type": "markdown",
   "source": [
    "### 1st Method of Formulation"
   ],
   "metadata": {}
  },
  {
   "cell_type": "code",
   "execution_count": null,
   "source": [
    "mu_x = 0\n",
    "sigma_x = 2\n",
    "\n",
    "mu_y = 0\n",
    "sigma_y = 2\n",
    "\n",
    "# Create grid and multivariate normal\n",
    "x = np.linspace(-10, 10, 500)\n",
    "y = np.linspace(-10, 10, 500)\n",
    "X, Y = np.meshgrid(x, y)\n",
    "pos = np.empty(X.shape + (2, ))\n",
    "pos[:, :, 0] = X\n",
    "pos[:, :, 1] = Y  # more technical than next one\n",
    "norm = stats.multivariate_normal([mu_x, mu_y],\n",
    "                                 [[sigma_x, 0], [0, sigma_y]])  # frozen\n",
    "\n",
    "# Make a 3D plot\n",
    "fig = plt.figure(figsize=(12, 12))\n",
    "ax = fig.gca(projection='3d')\n",
    "ax.plot_surface(X, Y, norm.pdf(pos), cmap='viridis', linewidth=0)\n",
    "\n",
    "ax.set(xlabel='X axis',\n",
    "       ylabel='Y axis',\n",
    "       zlabel='Z axis',\n",
    "       title='Bivariate Normal Distribution')\n",
    "\n",
    "plt.show()"
   ],
   "outputs": [],
   "metadata": {}
  },
  {
   "cell_type": "markdown",
   "source": [
    "### 2st Method of Formulation"
   ],
   "metadata": {}
  },
  {
   "cell_type": "code",
   "execution_count": null,
   "source": [
    "# Parameters to set\n",
    "mu_x = 0\n",
    "sigma_x = 7\n",
    "\n",
    "mu_y = 0\n",
    "sigma_y = 15\n",
    "\n",
    "x = np.linspace(-10, 10, 500)\n",
    "y = np.linspace(-10, 10, 500)\n",
    "X, Y = np.meshgrid(x, y)\n",
    "\n",
    "pos = np.array([X.flatten(), Y.flatten()]).T  # more intuitive than former one\n",
    "\n",
    "rv = sp.stats.multivariate_normal([mu_x, mu_y], [[sigma_x, 0], [0, sigma_y]])\n",
    "\n",
    "fig = plt.figure(figsize=(10, 10))\n",
    "ax0 = fig.add_subplot(111)\n",
    "ax0.contourf(X, Y, rv.pdf(pos).reshape(500, 500), cmap='viridis')\n",
    "\n",
    "plt.show()"
   ],
   "outputs": [],
   "metadata": {}
  },
  {
   "cell_type": "markdown",
   "source": [
    "## Beta Distribution"
   ],
   "metadata": {}
  },
  {
   "cell_type": "markdown",
   "source": [
    "The PDF of **Beta distribution** is \n",
    "\n",
    "$$\n",
    "\\begin{equation}\n",
    "f(x, a, b)=\\frac{\\Gamma(a+b) x^{a-1}(1-x)^{b-1}}{\\Gamma(a) \\Gamma(b)}\n",
    "\\end{equation}\n",
    "$$\n",
    "\n",
    "where $0\\leq x \\leq 1$ and $a>0$, $b>0$, $\\Gamma$ is the Gamma function, and $a$ and $b$ decide the shape of Beta PDF."
   ],
   "metadata": {}
  },
  {
   "cell_type": "code",
   "execution_count": null,
   "source": [
    "x = np.linspace(0, 1, 100)\n",
    "\n",
    "_, ax = plt.subplots(figsize=(6, 4), dpi=100)\n",
    "\n",
    "ax = fig.add_subplot(111)\n",
    "\n",
    "a = [.5, 5, 1, 2, 2, 3, 1]  # these are values of parameter a\n",
    "b = [.5, 1, 5, 2, 3, 2, 1]\n",
    "\n",
    "for parameter in zip(a, b):\n",
    "    beta_pdf = stats.beta.pdf(x, parameter[0], parameter[1])\n",
    "    ax.plot(x,\n",
    "            beta_pdf,\n",
    "            lw=3,\n",
    "            label='$a = %.1f, b =  %.1f$' % (parameter[0], parameter[1]))\n",
    "    ax.legend()\n",
    "\n",
    "ax.set(title='PDF of Beta Distribution')\n",
    "ax.axis([0, 1, 0, 3])\n",
    "plt.show()"
   ],
   "outputs": [],
   "metadata": {}
  },
  {
   "cell_type": "code",
   "execution_count": null,
   "source": [
    "x = np.linspace(0, 1, 100)\n",
    "\n",
    "fig = plt.figure(figsize=(12, 12))\n",
    "ax = fig.add_subplot(111)\n",
    "\n",
    "a = [.5, 5, 1, 2, 2, 3, 1]  # these are values of parameter a\n",
    "b = [.5, 1, 5, 2, 3, 2, 1]\n",
    "\n",
    "for parameter in zip(a, b):\n",
    "    beta_pdf = stats.beta.cdf(x, parameter[0], parameter[1])\n",
    "    ax.plot(x,\n",
    "            beta_pdf,\n",
    "            lw=3,\n",
    "            label='$a = %.1f, b =  %.1f$' % (parameter[0], parameter[1]))\n",
    "    ax.legend()\n",
    "ax.set(title='CDF of Beta Distribution')\n",
    "ax.axis([0, 1, 0, 1])\n",
    "plt.show()"
   ],
   "outputs": [],
   "metadata": {}
  },
  {
   "cell_type": "markdown",
   "source": [
    "Beta distribution is mostly useful as **prior distribution** in Bayesian estimation, because it is bounded in $[0, 1]$, that is perfect for modeling the _probability distribution of probabilities_. In Bayesian estimation, we only care about the proportion between prior and posterior, by adjusting $a$ and $b$ we can use Beta distribution to express any kinds of prior beliefs including normal, uniform, exponential distribution and etc.\n",
    "\n",
    "\\begin{equation}\n",
    "f(x, a, b)\\propto x^{a-1}(1-x)^{b-1}\n",
    "\\end{equation}"
   ],
   "metadata": {}
  },
  {
   "cell_type": "markdown",
   "source": [
    "## <font face=\"gotham\" color=\"purple\"> $\\chi^2$ Distribution"
   ],
   "metadata": {}
  },
  {
   "cell_type": "markdown",
   "source": [
    "$\\chi^2$ distribution is closely connected with normal distributions, if $z$ has the standard normal distribution, then $z^2$ has the $\\chi^2$ distribution with $d.f.=1$. And further,if\n",
    "\n",
    "$$\n",
    "\\begin{equation}\n",
    "z_1, z_2, ..., z_k \\sim i.i.d. N(0, 1)\n",
    "\\end{equation}\n",
    "$$\n",
    "\n",
    "Then summation has a $\\chi^2$ distribution of $d.f. = k$:\n",
    "\n",
    "$$\n",
    "\\begin{equation}\n",
    "\\sum_{i=0}^k z_i^2 \\sim \\chi^2(k)\n",
    "\\end{equation}\n",
    "$$"
   ],
   "metadata": {}
  },
  {
   "cell_type": "markdown",
   "source": [
    "We will see in later chapters how $\\chi^2$ distribution is referred when performing hypothesis testing."
   ],
   "metadata": {}
  },
  {
   "cell_type": "markdown",
   "source": [
    "### $\\chi^2$ PDF and CDF"
   ],
   "metadata": {}
  },
  {
   "cell_type": "code",
   "execution_count": null,
   "source": [
    "k = 1\n",
    "x = np.linspace(0, 5, 100)\n",
    "chi_pdf = stats.chi2.pdf(x, k)\n",
    "\n",
    "_, ax = plt.subplots(figsize=(6, 4), dpi=100)\n",
    "\n",
    "ax.plot(x, chi_pdf, lw = 3, c = 'r', label = '$\\chi^2$ distribution with d.f. = 1')\n",
    "ax.legend()\n",
    "plt.show()"
   ],
   "outputs": [],
   "metadata": {}
  },
  {
   "cell_type": "code",
   "execution_count": null,
   "source": [
    "_, ax = plt.subplots(figsize=(6, 4), dpi=100)\n",
    "\n",
    "for i in range(1, 6):\n",
    "    x = np.linspace(0, 5, 100)\n",
    "    chi_pdf = stats.chi2.pdf(x, i)\n",
    "    ax.plot(x, chi_pdf, lw = 3, label = '$\\chi^2$ distribution with d.f. = %.0d'%i)\n",
    "    ax.legend()\n",
    "    ax.axis([0, 5, 0, 1])\n",
    "plt.show()"
   ],
   "outputs": [],
   "metadata": {}
  },
  {
   "cell_type": "markdown",
   "source": [
    "## F Distribution"
   ],
   "metadata": {}
  },
  {
   "cell_type": "markdown",
   "source": [
    "If $U_1$ has a $\\chi^2$ distribution with $\\nu_1$ d.f. and $U_2$ has a $\\chi^2$ distribution with $\\nu_2$ d.f., then\n",
    "\n",
    "$$\n",
    "\\begin{equation}\n",
    "\\frac{U_1/\\nu_1}{U_2/\\nu_2}\\sim F(\\nu_1, \\nu_2)\n",
    "\\end{equation}\n",
    "$$\n",
    "\n",
    "We are using $F$ distribution for ratios of variances."
   ],
   "metadata": {}
  },
  {
   "cell_type": "code",
   "execution_count": null,
   "source": [
    "x = np.linspace(0, 5, 100)\n",
    "_, ax = plt.subplots(figsize=(6, 4), dpi=100)\n",
    "\n",
    "df1 = [10, 5, 8, 15]\n",
    "df2 = [5, 10, 15, 8]\n",
    "\n",
    "for df in zip(df1, df2):\n",
    "    f_pdf = stats.f.pdf(x, dfn = df[0], dfd = df[0])\n",
    "    ax.plot(x, f_pdf, lw =3, label = '$df_1 = %.d, df_2 = %.d$' %(df[0], df[1]))\n",
    "ax.legend()\n",
    "plt.show()"
   ],
   "outputs": [],
   "metadata": {}
  },
  {
   "cell_type": "markdown",
   "source": [
    "$\\chi^2$ and $F$ distribution are mostly used for statistical testing, we will elaborate the topic later."
   ],
   "metadata": {}
  },
  {
   "cell_type": "markdown",
   "source": [
    "## Student's t Distribution"
   ],
   "metadata": {}
  },
  {
   "cell_type": "markdown",
   "source": [
    "The **t-distribution** is used when data are approximately normally distributed, which means the data follow a bell shape but the population variance is unknown. We will come back to this topic in chapter of estimation.\n",
    "\n",
    "The PDF of t-distribution is derived from normal and $\\chi^2$ distribution\n",
    "$$\n",
    "f(t)=\\frac{\\Gamma\\left(\\frac{\\nu+1}{2}\\right)}{\\sqrt{\\nu \\pi} \\Gamma\\left(\\frac{\\nu}{2}\\right)}\\left(1+\\frac{t^{2}}{\\nu}\\right)^{-\\frac{\\nu+1}{2}}\n",
    "$$\n",
    "No need to know the meaning of its components. But we do need a visual memory of the comparison of t-distribution and normal distribution."
   ],
   "metadata": {}
  },
  {
   "cell_type": "markdown",
   "source": [
    "If a sample has $n$ observations, then the degree of freedom (d.o.f.) of t-distribution is $n-1$, the larger the d.o.f. the closer to normal distribution."
   ],
   "metadata": {}
  },
  {
   "cell_type": "code",
   "execution_count": null,
   "source": [
    "x = np.linspace(-3, 3, 100)\n",
    "y_norm = stats.norm.pdf(x, loc=0, scale=1)\n",
    "\n",
    "_, ax = plt.subplots(figsize=(6, 4), dpi=100)\n",
    "\n",
    "ax.plot(x, y_norm, label='Normal Distribution')\n",
    "for i in range(1, 11):\n",
    "    y_t = stats.t.pdf(x, df=i, loc=0, scale=1)\n",
    "    ax.plot(x,\n",
    "            y_t,\n",
    "            color='tomato',\n",
    "            alpha=.1 * i,\n",
    "            label=f't-Distribution with dof = {i}')\n",
    "ax.legend()\n",
    "plt.show()"
   ],
   "outputs": [],
   "metadata": {}
  }
 ],
 "metadata": {
  "kernelspec": {
   "name": "python3",
   "display_name": "Python 3.9.7 64-bit ('kaggle': conda)"
  },
  "language_info": {
   "codemirror_mode": {
    "name": "ipython",
    "version": 3
   },
   "file_extension": ".py",
   "mimetype": "text/x-python",
   "name": "python",
   "nbconvert_exporter": "python",
   "pygments_lexer": "ipython3",
   "version": "3.9.7"
  },
  "toc": {
   "base_numbering": 1,
   "nav_menu": {},
   "number_sections": true,
   "sideBar": true,
   "skip_h1_title": false,
   "title_cell": "Table of Contents",
   "title_sidebar": "Contents",
   "toc_cell": false,
   "toc_position": {
    "height": "471.323px",
    "left": "161px",
    "top": "180px",
    "width": "209.396px"
   },
   "toc_section_display": true,
   "toc_window_display": true
  },
  "interpreter": {
   "hash": "14395c271f7a23b331c8f5f0139dc82129d4ff410a5b00cf69b55a03a150d670"
  }
 },
 "nbformat": 4,
 "nbformat_minor": 4
}